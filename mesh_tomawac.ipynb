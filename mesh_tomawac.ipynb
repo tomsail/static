{
 "cells": [
  {
   "cell_type": "markdown",
   "id": "3d33da3a",
   "metadata": {},
   "source": [
    "# global TOMAWAC simulations \n",
    "\n",
    "We'll generate a world contiguous mesh for global wave simulations.\n",
    "\n",
    "### install base environment \n",
    "To be able to run this notebook, first install the pre-requisites for seamsh: \n",
    "\n",
    "```bash\n",
    "mamba create -n tomawac_mesh gdal gmsh scipy python=3.12\n",
    "```\n",
    "\n",
    "#### Optionally \n",
    "create then a virtual environment on top of conda: \n",
    "\n",
    "```bash\n",
    "python -mvenv .venv \n",
    "source .venv/bin/activate\n",
    "```\n",
    "\n",
    "### install libraries \n",
    "```bash\n",
    "pip install -e .\n",
    "```\n",
    "\n",
    "You're ready to run the notebook, and generate different version of the mesh.\n",
    "\n",
    "This notebook contains to following sections: \n",
    "\n",
    "1. gather data: \n",
    "   * A. GEBCO bathy through [`seareport_data`](https://github.com/seareport/seareport_data)\n",
    "   * B. coastlines from natural earth coasltines\n",
    "2. Prepare the distance fields from the above data\n",
    "   * only coastline is used to constrain with the Distance from the shore, but you can activate more contraints if necessary\n",
    "3. Mesh\n",
    "4. Interpolate bathy onto the mesh\n",
    "5. Convert to Selafin (using `xarray-selafin` available via `pip`)\n",
    "6. Generate the CLI file\n",
    "7. Interpolate ERA5 wind data onto the mesh\n",
    "8. Convert to wind Selafin binary\n",
    "9. Visualise TOMAWAC results directly in the notebook: \n",
    "![WAC_global](assets/max_Hm0_TOMAWAC.png)\n",
    "\n",
    "## 1 - Generate the mesh\n",
    "\n",
    "### Particularities of the meshes available in the `mesh/` folder: \n",
    " 1. For TOMAWAC simulations, I needed to add a hole in the pole. Only because of the triangle(s) that contain the pole (bug in routine `GEOELT.f`).\n",
    " 2. The mesh is contiguous, e.g. it wrap around the globe and the triangles at the dateline (+/- 180°) are connected alltogether. \n",
    " 3. The only constraint for the mesh size is the distance from the coast. You can activate the wavelength contrainst (proportional to `sqrt(depth)`) or the bathy gradient constraint.\n",
    "\n",
    "## 2 - Run the model\n",
    "\n",
    "You will need to compile and run TELEMAC from the `main` branch, because it contains the latest version of 1D time series exports, very useful for global model analysis (and comparison against buoys).\n",
    "\n",
    "All the modified routines to run TOMAWAC global are in `wac/princi/` folder.\n",
    "\n",
    "Look for `SEB` or `TOM` for the modified parts of the source code.\n",
    "\n",
    "\n",
    "## Get the whole project: \n",
    "\n",
    "available on Google drive : \n",
    "https://drive.google.com/drive/folders/1SMNkHymAeuRfKh27pwPf7TgdIlOhTBvI?usp=sharing"
   ]
  },
  {
   "cell_type": "code",
   "execution_count": null,
   "id": "f92ce95f",
   "metadata": {},
   "outputs": [],
   "source": [
    "import seamsh\n",
    "import numpy as np\n",
    "import xarray as xr\n",
    "import seareport_data as D\n",
    "import utils\n",
    "import hvplot.pandas\n",
    "import hvplot.xarray"
   ]
  },
  {
   "cell_type": "markdown",
   "id": "899a9ae2",
   "metadata": {},
   "source": [
    "## Mesh settings \n",
    "\n",
    "here are the main parameters used for the mesher settings: "
   ]
  },
  {
   "cell_type": "code",
   "execution_count": null,
   "id": "b6fa4776",
   "metadata": {},
   "outputs": [],
   "source": [
    "# Meshing parameters for contributions\n",
    "OPTS = {\n",
    "    \"max\": 150000,      # max resolution\n",
    "    \"min\": 10000,        # min resolution\n",
    "    \"dist\": 0.15,       # The rate of expansion in decimal percent from the shoreline\n",
    "    \"wl\": 50,           # (not used here) number of element to resolve WL\n",
    "    \"m2\": 12.42 * 3600, # (not used here) for wavelength: M2 period in seconds\n",
    "    \"g\": 9.81,          # (not used here) for wavelength: m/s^2\n",
    "    \"slope\": 5,         # (not used here) number of element to resolve bathy gradient\n",
    "    \"grade\": 1.5,       # the rate of growth in decimal percent\n",
    "}\n",
    "REMOVE_POLE = True      # for tomawac simulations"
   ]
  },
  {
   "cell_type": "markdown",
   "id": "23bc53c8",
   "metadata": {},
   "source": [
    "## Coastlines "
   ]
  },
  {
   "cell_type": "code",
   "execution_count": null,
   "id": "bd492d6f",
   "metadata": {},
   "outputs": [],
   "source": [
    "SHP_IN = \"ne_10m_coastline/ne_10m_coastline.shp\"\n",
    "SHPOUT = \"ne_10m_coastline/ne_10m_coastline_poly.shp\"\n",
    "POLE= \"ne_10m_coastline/pole_ring.shp\"\n",
    "utils.get_ne_coastline(SHP_IN)\n",
    "utils.remove_small_islands(SHP_IN, SHPOUT, OPTS['min'])\n",
    "utils.add_hole_in_pole(POLE)"
   ]
  },
  {
   "cell_type": "markdown",
   "id": "42827b14",
   "metadata": {},
   "source": [
    "### define the CRS for the meshing "
   ]
  },
  {
   "cell_type": "code",
   "execution_count": null,
   "id": "6f700ca4",
   "metadata": {},
   "outputs": [],
   "source": [
    "from osgeo import osr\n",
    "domain_srs = osr.SpatialReference()\n",
    "domain_srs.ImportFromProj4(\"+ellps=WGS84 +proj=stere +lat_0=90\")\n",
    "# \"Cartesian\" projection (i.e. no projection) is used to compute the distance to the coast.\n",
    "cart_srs = osr.SpatialReference()\n",
    "cart_srs.ImportFromProj4(\"+ellps=WGS84 +proj=cart +units=m +x_0=0 +y_0=0\")\n",
    "wgs84_srs = osr.SpatialReference()\n",
    "wgs84_srs.ImportFromProj4(\"+ellps=WGS84 +proj=longlat +datum=WGS84 +no_defs\")"
   ]
  },
  {
   "cell_type": "markdown",
   "id": "b3d9d880",
   "metadata": {},
   "source": [
    "## Distance field "
   ]
  },
  {
   "cell_type": "code",
   "execution_count": null,
   "id": "49af9544",
   "metadata": {},
   "outputs": [],
   "source": [
    "domain = seamsh.geometry.Domain(domain_srs)\n",
    "domain.add_boundary_curves_shp(SHPOUT, \"featurecla\", seamsh.geometry.CurveType.POLYLINE)\n",
    "dist_coast = seamsh.field.Distance(domain, OPTS[\"min\"]/2, projection=cart_srs)"
   ]
  },
  {
   "cell_type": "markdown",
   "id": "ed948ea8",
   "metadata": {},
   "source": [
    "## Bathy field (not used here)"
   ]
  },
  {
   "cell_type": "code",
   "execution_count": null,
   "id": "93c31d11",
   "metadata": {},
   "outputs": [],
   "source": [
    "bathy = D.gebco_ds(\"sub_ice\")\n",
    "bathy_subset = bathy.isel(lon=slice(0,-1,10), lat=slice(0,-1,10))\n",
    "bathy_grad = utils.calc_gradient(bathy_subset, 'elevation')\n",
    "bathy_grad"
   ]
  },
  {
   "cell_type": "code",
   "execution_count": null,
   "id": "1b86899a",
   "metadata": {},
   "outputs": [],
   "source": [
    "! mkdir -p data"
   ]
  },
  {
   "cell_type": "code",
   "execution_count": null,
   "id": "a7a9ffa8",
   "metadata": {},
   "outputs": [],
   "source": [
    "BATHY = \"data/gebco_2024_1000_4k.tif\"\n",
    "BATHY_GRADIENT = \"data/gebco_2024_grad_smooth_1000_4k.tif\"\n",
    "utils.to_raster(bathy_subset.elevation, BATHY)\n",
    "utils.to_raster(bathy_grad.gradient, BATHY_GRADIENT)"
   ]
  },
  {
   "cell_type": "code",
   "execution_count": null,
   "id": "e52ffdae",
   "metadata": {},
   "outputs": [],
   "source": [
    "bath_field = seamsh.field.Raster(BATHY)\n",
    "bath_field._projection = osr.SpatialReference()\n",
    "bath_field._projection.ImportFromProj4(\"+proj=longlat +ellps=WGS84 +datum=WGS84 +no_defs\")\n",
    "grad_field = seamsh.field.Raster(BATHY_GRADIENT)\n",
    "grad_field._projection = osr.SpatialReference()\n",
    "grad_field._projection.ImportFromProj4(\"+proj=longlat +ellps=WGS84 +datum=WGS84 +no_defs\")\n",
    "# %%"
   ]
  },
  {
   "cell_type": "markdown",
   "id": "a3ecc3d6",
   "metadata": {},
   "source": [
    "## MESH"
   ]
  },
  {
   "cell_type": "markdown",
   "id": "a16c2091",
   "metadata": {},
   "source": [
    "### Mesh size function"
   ]
  },
  {
   "cell_type": "code",
   "execution_count": null,
   "id": "8b46515d",
   "metadata": {},
   "outputs": [],
   "source": [
    "# it is necessary to convert the mesh size to stereographic coordinates\n",
    "def mesh_size(x, projection,R = 6371000):\n",
    "    depth = bath_field(x, projection)\n",
    "    depth[depth>0] = 0\n",
    "    grad = grad_field(x, projection)\n",
    "    lon, lat = utils.stereo_to_wgs84(x, source_epsg=projection)\n",
    "    s_wl = OPTS[\"m2\"] / OPTS[\"wl\"] * np.sqrt(9.81 * - depth)\n",
    "    s_wl = np.clip(s_wl, OPTS[\"min\"]*2,None)\n",
    "    s_grad = abs(depth) / (grad + 1e-10)*(2*np.pi / OPTS[\"slope\"])\n",
    "    s_grad = np.clip(s_grad, OPTS[\"min\"]*3,None)\n",
    "    s_coast = dist_coast(x, projection)* OPTS[\"grade\"] + OPTS[\"min\"]\n",
    "\n",
    "    # s_final = np.c_[s_coast, s_wl, s_grad].min(axis=1)\n",
    "    s_final = s_coast\n",
    "\n",
    "    stereo_factor = 2/(1+x[:,0]**2/R**2+x[:,1]**2/R**2) * (3/4*np.cos(np.deg2rad(lat+90))+5/4)\n",
    "    return np.clip(s_final,OPTS[\"min\"],OPTS[\"max\"])/stereo_factor"
   ]
  },
  {
   "cell_type": "markdown",
   "id": "4686fbde",
   "metadata": {},
   "source": [
    "Coarsen boundaries"
   ]
  },
  {
   "cell_type": "code",
   "execution_count": null,
   "id": "ca665d9a",
   "metadata": {},
   "outputs": [],
   "source": [
    "coarse = seamsh.geometry.coarsen_boundaries(domain, (0, 0), domain_srs, mesh_size)\n",
    "if REMOVE_POLE:\n",
    "    coarse.add_boundary_curves_shp(POLE,\"featurecla\", seamsh.geometry.CurveType.POLYLINE)\n",
    "else: \n",
    "    x = [[0., 0.]]\n",
    "    coarse.add_interior_points(x,\"featurecla\",domain_srs)"
   ]
  },
  {
   "cell_type": "markdown",
   "id": "70b7489b",
   "metadata": {},
   "source": [
    "finally mesh "
   ]
  },
  {
   "cell_type": "code",
   "execution_count": null,
   "id": "3d927166",
   "metadata": {},
   "outputs": [],
   "source": [
    "seamsh.gmsh.mesh(\n",
    "    coarse, \n",
    "    \"natural_earth.msh\", \n",
    "    mesh_size, \n",
    "    output_srs=domain_srs,\n",
    "    intermediate_file_name=\"-\",\n",
    "    # binary=True\n",
    ")\n",
    "seamsh.gmsh.reproject(\"natural_earth.msh\", domain_srs, \"natural_earth_wgs84.msh\", wgs84_srs)"
   ]
  },
  {
   "cell_type": "markdown",
   "id": "704ae46a",
   "metadata": {},
   "source": [
    "## Interpolate Bathy"
   ]
  },
  {
   "cell_type": "code",
   "execution_count": null,
   "id": "5d362405",
   "metadata": {},
   "outputs": [],
   "source": [
    "import gmsh\n",
    "gmsh.open(\"natural_earth_wgs84.msh\")\n",
    "tri_i, tri_n = gmsh.model.mesh.getElementsByType(2)\n",
    "tri_n = tri_n.reshape([-1, 3])\n",
    "node_i, nodes, _ = gmsh.model.mesh.getNodes()\n",
    "nodes = nodes.reshape([-1, 3])\n",
    "x = nodes[:, 0]\n",
    "y = nodes[:, 1]\n",
    "z = nodes[:, 2]\n",
    "element = np.subtract(tri_n, 1)"
   ]
  },
  {
   "cell_type": "code",
   "execution_count": null,
   "id": "3ba22e8e",
   "metadata": {},
   "outputs": [],
   "source": [
    "subset = bathy.isel(lon=slice(0, -1, 10), lat=slice(0, -1, 10)).pad(lon=(1,1),lat=(1,1),mode=\"edge\")\n",
    "lon_values = subset.lon.values\n",
    "lat_values = subset.lat.values\n",
    "lon_values[-1] = 180.0\n",
    "lon_values[0] = -180.0\n",
    "lat_values[-1] = 90.0\n",
    "lat_values[0] = -90.0\n",
    "subset = subset.assign_coords(lon=lon_values,lat=lat_values)\n",
    "subset"
   ]
  },
  {
   "cell_type": "code",
   "execution_count": null,
   "id": "1d971672",
   "metadata": {},
   "outputs": [],
   "source": [
    "from scipy.interpolate import RegularGridInterpolator as RGI\n",
    "RG = RGI((subset.lon, subset.lat), subset.elevation.data.T, method=\"linear\")"
   ]
  },
  {
   "cell_type": "markdown",
   "id": "02925268",
   "metadata": {},
   "source": [
    "## export to Selafin"
   ]
  },
  {
   "cell_type": "code",
   "execution_count": null,
   "id": "8ee991af",
   "metadata": {},
   "outputs": [],
   "source": [
    "!mkdir -p mesh"
   ]
  },
  {
   "cell_type": "code",
   "execution_count": null,
   "id": "91c014da",
   "metadata": {},
   "outputs": [],
   "source": [
    "from xarray_selafin.xarray_backend import SelafinAccessor\n",
    "import pandas as pd\n",
    "\n",
    "slf_ds = xr.Dataset(\n",
    "    coords={\n",
    "        \"time\": [pd.Timestamp.now()],\n",
    "        \"x\": (\"node\", x),\n",
    "        \"y\": (\"node\", y),\n",
    "    },\n",
    "    data_vars={\n",
    "        \"B\" : ((\"time\", \"node\"), [RG((x,y))])\n",
    "    }\n",
    ")\n",
    "slf_ds.attrs['ikle2'] = element + 1\n",
    "filebase = f\"mesh/global_{OPTS[\"min\"]/1000}-{int(OPTS[\"max\"]/1000)}km-smo{OPTS[\"grade\"]-1}-{len(slf_ds.x)}nodes\"\n",
    "slf_ds.selafin.write(filebase+\".slf\")\n",
    "# export CLI file\n",
    "_=utils.export_cli(slf_ds, filebase+\".cli\")"
   ]
  },
  {
   "cell_type": "code",
   "execution_count": null,
   "id": "67b9dfed",
   "metadata": {},
   "outputs": [],
   "source": [
    "slf_ds"
   ]
  },
  {
   "cell_type": "code",
   "execution_count": null,
   "id": "eed71537",
   "metadata": {},
   "outputs": [],
   "source": [
    "filebase"
   ]
  },
  {
   "cell_type": "code",
   "execution_count": null,
   "id": "3ba2fd02",
   "metadata": {},
   "outputs": [],
   "source": [
    "slf_ds.B.hvplot.scatter(\n",
    "    x=\"x\",\n",
    "    y=\"y\",\n",
    "    c='B',\n",
    "    cmap=\"fire\",\n",
    "    s=1,\n",
    "    clim=(-5000, 0),\n",
    "    ).opts(\n",
    "        width=800,\n",
    "        height=500,\n",
    "    )"
   ]
  },
  {
   "cell_type": "markdown",
   "id": "e5e69df0",
   "metadata": {},
   "source": [
    "## Interpolate wind"
   ]
  },
  {
   "cell_type": "code",
   "execution_count": null,
   "id": "cb458ba9",
   "metadata": {},
   "outputs": [],
   "source": [
    "atm_nc = xr.open_dataset(\"data/era5_202307_uvp.nc\")\n",
    "atm_nc"
   ]
  },
  {
   "cell_type": "code",
   "execution_count": null,
   "id": "0fc6183c",
   "metadata": {},
   "outputs": [],
   "source": [
    "lon_values = atm_nc.longitude.values\n",
    "lat_values = atm_nc.latitude.values\n",
    "lon_values[-1] = 360.0\n",
    "atm_nc = atm_nc.assign_coords(lon=lon_values)"
   ]
  },
  {
   "cell_type": "code",
   "execution_count": null,
   "id": "b736b0e3",
   "metadata": {},
   "outputs": [],
   "source": [
    "atm_data = dict()\n",
    "\n",
    "for var in [\"msl\", \"u10\", \"v10\"]: \n",
    "    RG = RGI((atm_nc.longitude, atm_nc.latitude), atm_nc[var].data.T, method=\"linear\")\n",
    "    atm_data[var] = RG((slf_ds.x.data % 360, slf_ds.y.data))\n",
    "\n",
    "slf_wind =xr.Dataset(coords = {\n",
    "    \"x\": (\"node\", slf_ds.x.data),\n",
    "    \"y\": (\"node\", slf_ds.y.data),\n",
    "    \"time\": atm_nc.time.data\n",
    "    },\n",
    "    data_vars={\n",
    "        \"PATM\": ((\"node\", \"time\"), atm_data[\"msl\"]),\n",
    "        \"WINDX\": ((\"node\", \"time\"), atm_data[\"u10\"]),\n",
    "        \"WINDY\": ((\"node\", \"time\"), atm_data[\"v10\"]),\n",
    "    }\n",
    ")\n",
    "slf_wind.attrs[\"ikle2\"] = slf_ds.ikle2\n",
    "slf_wind.attrs[\"variables\"] = {'PATM': ('PATM', 'PASCAL'), 'WINDX': ('WINDX', 'M/S'), 'WINDY': ('WINDY', 'M/S')}"
   ]
  },
  {
   "cell_type": "code",
   "execution_count": null,
   "id": "c599a44e",
   "metadata": {},
   "outputs": [],
   "source": [
    "slf_wind.selafin.write(filebase+\"_wind.slf\")"
   ]
  },
  {
   "cell_type": "markdown",
   "id": "ffd11cfd",
   "metadata": {},
   "source": [
    "### Inspect results"
   ]
  },
  {
   "cell_type": "code",
   "execution_count": null,
   "id": "c29acbb7",
   "metadata": {},
   "outputs": [],
   "source": [
    "res2d = xr.open_dataset(\"wac/r2d_global_tom.slf\")\n",
    "res1d = xr.open_dataset(\"wac/r1d_global_tom.slf\")"
   ]
  },
  {
   "cell_type": "code",
   "execution_count": null,
   "id": "3d46e3c7",
   "metadata": {},
   "outputs": [],
   "source": [
    "res2d.max(dim=\"time\").WH.hvplot.scatter(x=\"x\",\n",
    "    y=\"y\",\n",
    "    c='WH',\n",
    "    cmap=\"rainbow4\",\n",
    "    s=1,   \n",
    ").opts(\n",
    "    clim=(0, 10),\n",
    "    width=800,\n",
    "    height=500,\n",
    "    title=\"Max Hm0 over July 2023\"\n",
    ")"
   ]
  },
  {
   "cell_type": "code",
   "execution_count": null,
   "id": "1a7bf00c",
   "metadata": {},
   "outputs": [],
   "source": [
    "res1d.max(dim=\"time\").WH.hvplot.scatter(x=\"x\",\n",
    "    y=\"y\",\n",
    "    c='WH',\n",
    "    cmap=\"rainbow4\",\n",
    "    hover_cols=[\"node\"]\n",
    ").opts(\n",
    "    clim=(0, 10),\n",
    "    width=800,\n",
    "    height=500,\n",
    "    title=\"Max Hm0 over July 2023\"\n",
    ")"
   ]
  },
  {
   "cell_type": "code",
   "execution_count": null,
   "id": "d70e4977",
   "metadata": {},
   "outputs": [],
   "source": [
    "res1d.isel(node=389).WH.hvplot(\n",
    ").opts(\n",
    "    width=800,\n",
    "    height=500,\n",
    "    title=f\"Hm0 over July 2023, for station located at {res1d.isel(node=389).x.values:0.2f}°E, {res1d.isel(node=389).y.values:0.2f}°N\"\n",
    ")"
   ]
  }
 ],
 "metadata": {
  "kernelspec": {
   "display_name": ".venv (3.12.11)",
   "language": "python",
   "name": "python3"
  },
  "language_info": {
   "codemirror_mode": {
    "name": "ipython",
    "version": 3
   },
   "file_extension": ".py",
   "mimetype": "text/x-python",
   "name": "python",
   "nbconvert_exporter": "python",
   "pygments_lexer": "ipython3",
   "version": "3.12.11"
  }
 },
 "nbformat": 4,
 "nbformat_minor": 5
}
