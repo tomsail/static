{
 "cells": [
  {
   "cell_type": "code",
   "execution_count": null,
   "id": "61a838e9",
   "metadata": {
    "execution": {
     "iopub.execute_input": "2025-08-25T03:45:09.519465Z",
     "iopub.status.busy": "2025-08-25T03:45:09.519337Z",
     "iopub.status.idle": "2025-08-25T03:45:37.188497Z",
     "shell.execute_reply": "2025-08-25T03:45:37.182059Z",
     "shell.execute_reply.started": "2025-08-25T03:45:09.519451Z"
    }
   },
   "outputs": [],
   "source": [
    "import numpy as np\n",
    "import pandas as pd\n",
    "from pytides2.tide import Tide\n",
    "import xarray as xr"
   ]
  },
  {
   "cell_type": "code",
   "execution_count": null,
   "id": "39ca502f",
   "metadata": {
    "execution": {
     "iopub.execute_input": "2025-08-25T03:45:37.193329Z",
     "iopub.status.busy": "2025-08-25T03:45:37.193203Z",
     "iopub.status.idle": "2025-08-25T03:45:50.664304Z",
     "shell.execute_reply": "2025-08-25T03:45:50.662883Z",
     "shell.execute_reply.started": "2025-08-25T03:45:37.193315Z"
    }
   },
   "outputs": [],
   "source": [
    "from dask.distributed import Client, LocalCluster\n",
    "cluster = LocalCluster(\n",
    "    n_workers=128,          # one worker per thread\n",
    "    threads_per_worker=1,   # HDF5/xarray likes this\n",
    "    memory_limit=\"2GB\"      # or ~ (503/256) GiB\n",
    ")\n",
    "client = Client(cluster)\n",
    "client"
   ]
  },
  {
   "cell_type": "code",
   "execution_count": null,
   "id": "7e5edb31",
   "metadata": {
    "execution": {
     "iopub.execute_input": "2025-08-25T03:45:50.668240Z",
     "iopub.status.busy": "2025-08-25T03:45:50.667889Z",
     "iopub.status.idle": "2025-08-25T03:45:50.693545Z",
     "shell.execute_reply": "2025-08-25T03:45:50.692975Z",
     "shell.execute_reply.started": "2025-08-25T03:45:50.668224Z"
    }
   },
   "outputs": [],
   "source": [
    "def pytides_to_df(pytides_tide: Tide) -> pd.DataFrame:\n",
    "    constituent_names = [c.name.upper() for c in pytides_tide.model[\"constituent\"]]\n",
    "    return pd.DataFrame(pytides_tide.model, index=constituent_names).drop(\n",
    "        \"constituent\",\n",
    "        axis=1,\n",
    "    )\n",
    "\n",
    "def pytide_get_coefs(ts: pd.Series, resample: int = None) -> dict:\n",
    "    if resample is not None:\n",
    "        ts = ts.resample(f\"{resample}min\").mean()\n",
    "        ts = ts.shift(freq=f\"{resample / 2}min\")  # Center the resampled points\n",
    "    ts = ts.dropna()\n",
    "    return Tide.decompose(ts.values, ts.index.to_pydatetime())[0]\n",
    "\n",
    "def reduce_coef_to_fes(df: pd.DataFrame, cnst: list, verbose: bool = False):\n",
    "    res = pd.DataFrame(0.0, index=cnst, columns=df.columns)\n",
    "    common_constituents = df.index.intersection(cnst)\n",
    "    res.loc[common_constituents] = df.loc[common_constituents]\n",
    "\n",
    "    not_in_fes_df = df[~df.index.isin(cnst)]\n",
    "    not_in_fes = not_in_fes_df.index.tolist()\n",
    "    not_in_fes_amps = not_in_fes_df[\"amplitude\"].round(3).tolist()\n",
    "    missing_fes = set(cnst) - set(df.index)\n",
    "\n",
    "    if verbose:\n",
    "        print(f\"Constituents found but not in FES: {not_in_fes}\")\n",
    "        print(f\"Their amplitudes: {not_in_fes_amps}\")\n",
    "        if missing_fes:\n",
    "            print(\n",
    "                f\"FES constituents missing from analysis (set to 0): {sorted(missing_fes)}\",\n",
    "            )\n",
    "\n",
    "    return res"
   ]
  },
  {
   "cell_type": "code",
   "execution_count": null,
   "id": "27ca9153-d040-4ba1-814d-03ee114b4d12",
   "metadata": {
    "execution": {
     "iopub.execute_input": "2025-08-25T03:45:50.695591Z",
     "iopub.status.busy": "2025-08-25T03:45:50.695463Z",
     "iopub.status.idle": "2025-08-25T03:45:51.005821Z",
     "shell.execute_reply": "2025-08-25T03:45:51.005190Z",
     "shell.execute_reply.started": "2025-08-25T03:45:50.695578Z"
    }
   },
   "outputs": [],
   "source": [
    "from natsort import natsorted\n",
    "import glob\n",
    "\n",
    "files = natsorted(glob.glob(\"/project/home/p200764/schism_runs/validation/schism3d/run4/20220*/outputs/out2d_*.nc\"))\n",
    "files[-5:]"
   ]
  },
  {
   "cell_type": "code",
   "execution_count": null,
   "id": "e97702ad",
   "metadata": {
    "execution": {
     "iopub.execute_input": "2025-08-25T03:45:51.007912Z",
     "iopub.status.busy": "2025-08-25T03:45:51.007659Z",
     "iopub.status.idle": "2025-08-25T04:05:28.987284Z",
     "shell.execute_reply": "2025-08-25T04:05:28.985926Z",
     "shell.execute_reply.started": "2025-08-25T03:45:51.007894Z"
    }
   },
   "outputs": [],
   "source": [
    "ds = xr.open_mfdataset(\n",
    "    files,\n",
    "    concat_dim=\"time\",\n",
    "    combine=\"nested\",\n",
    "    parallel=True\n",
    ")\n",
    "# ds = ds.chunk({\"time\": -1, \"nSCHISM_hgrid_node\": 5000})  # now safe for Dask\n",
    "ds"
   ]
  },
  {
   "cell_type": "code",
   "execution_count": null,
   "id": "0c99ecf7-501c-4735-8004-739b58527e3f",
   "metadata": {
    "execution": {
     "iopub.execute_input": "2025-08-25T04:05:28.990999Z",
     "iopub.status.busy": "2025-08-25T04:05:28.990690Z",
     "iopub.status.idle": "2025-08-25T04:05:29.835929Z",
     "shell.execute_reply": "2025-08-25T04:05:29.835030Z",
     "shell.execute_reply.started": "2025-08-25T04:05:28.990980Z"
    },
    "scrolled": true
   },
   "outputs": [],
   "source": [
    "elev = ds.elevation.chunk({\"time\": -1, \"nSCHISM_hgrid_node\": 500})\n",
    "elev"
   ]
  },
  {
   "cell_type": "code",
   "execution_count": null,
   "id": "9a1ce56b",
   "metadata": {
    "execution": {
     "iopub.execute_input": "2025-08-25T04:05:29.837940Z",
     "iopub.status.busy": "2025-08-25T04:05:29.837797Z",
     "iopub.status.idle": "2025-08-25T04:05:29.861268Z",
     "shell.execute_reply": "2025-08-25T04:05:29.860698Z",
     "shell.execute_reply.started": "2025-08-25T04:05:29.837925Z"
    }
   },
   "outputs": [],
   "source": [
    "import dask.array as da\n",
    "FULL = [\n",
    "    \"M2\", \"S2\", \"N2\", \"K2\", \"2N2\", \"L2\", \"T2\", \"R2\", \"NU2\", \"MU2\", \"EPS2\", \"LAMBDA2\",  # Semi-diurnal (twice daily)\n",
    "    \"K1\", \"O1\", \"P1\", \"Q1\", \"J1\", \"S1\",  # Diurnal (once daily)\n",
    "    \"MF\", \"MM\", \"MSF\", \"SA\", \"SSA\", \"MSQM\", \"MTM\",  # Long period (fortnightly to annual)\n",
    "    \"M4\", \"MS4\", \"M6\", \"MN4\", \"N4\", \"S4\", \"M8\", \"M3\", \"MKS2\",  # Short period (higher harmonics)\n",
    "]\n",
    "\n",
    "metrics = [\"amplitude\",\"phase\"]\n",
    "\n",
    "def analyze_node(ts_np: np.ndarray, time_index: pd.DatetimeIndex) -> np.ndarray:\n",
    "\n",
    "    ts = pd.Series(ts_np, index=time_index, name=\"elev\")\n",
    "    df = pytides_to_df(pytide_get_coefs(ts, 60))\n",
    "    df = reduce_coef_to_fes(df, cnst=FULL)\n",
    "    # df = df.loc[constituents, metrics]  # enforce order\n",
    "    return df.to_numpy()\n",
    "\n",
    "def analyze_block(block: np.ndarray, time_block: np.ndarray) -> np.ndarray:\n",
    "    time_index = pd.DatetimeIndex(time_block)\n",
    "    return np.stack(\n",
    "        [analyze_node(block[:, i], time_index) for i in range(block.shape[1])],\n",
    "        axis=0\n",
    "    )\n",
    "\n",
    "nconst = len(FULL)\n",
    "nmetrics = len(metrics)\n",
    "\n",
    "results = da.map_blocks(\n",
    "    analyze_block,\n",
    "    elev.data,            # (Nt, Nnodes)\n",
    "    elev[\"time\"],\n",
    "    dtype=float,\n",
    "    drop_axis=0,          # drop time axis\n",
    "    new_axis=[1, 2],      # add constituent, metric axes\n",
    "    chunks=(elev.chunks[1], nconst, nmetrics)\n",
    ")\n",
    "results"
   ]
  },
  {
   "cell_type": "code",
   "execution_count": null,
   "id": "c7f98533",
   "metadata": {
    "execution": {
     "iopub.execute_input": "2025-08-25T04:05:29.861895Z",
     "iopub.status.busy": "2025-08-25T04:05:29.861756Z",
     "iopub.status.idle": "2025-08-25T04:05:30.073943Z",
     "shell.execute_reply": "2025-08-25T04:05:30.073209Z",
     "shell.execute_reply.started": "2025-08-25T04:05:29.861880Z"
    }
   },
   "outputs": [],
   "source": [
    "coef_da = xr.DataArray(\n",
    "    results,\n",
    "    dims=(\"nSCHISM_hgrid_node\", \"constituent\", \"metric\"),\n",
    "    coords={\n",
    "        \"nSCHISM_hgrid_node\": elev.nSCHISM_hgrid_node,\n",
    "        \"constituent\": FULL,\n",
    "        \"metric\": metrics,\n",
    "        \"lon\": elev.SCHISM_hgrid_node_x,\n",
    "        \"lat\": elev.SCHISM_hgrid_node_y,\n",
    "    },\n",
    "    name=\"tidal_coefs\"\n",
    ")\n",
    "coef_da"
   ]
  },
  {
   "cell_type": "code",
   "execution_count": null,
   "id": "b6c73a8b",
   "metadata": {
    "execution": {
     "iopub.execute_input": "2025-08-25T04:05:30.074741Z",
     "iopub.status.busy": "2025-08-25T04:05:30.074585Z",
     "iopub.status.idle": "2025-08-25T06:35:22.883744Z",
     "shell.execute_reply": "2025-08-25T06:35:22.821602Z",
     "shell.execute_reply.started": "2025-08-25T04:05:30.074718Z"
    }
   },
   "outputs": [],
   "source": [
    "from dask.diagnostics import ProgressBar\n",
    "import warnings\n",
    "warnings.filterwarnings(\"ignore\")\n",
    "\n",
    "with ProgressBar():\n",
    "    coef_result = coef_da.compute()"
   ]
  },
  {
   "cell_type": "code",
   "execution_count": null,
   "id": "7bd04edb",
   "metadata": {
    "execution": {
     "iopub.execute_input": "2025-08-25T06:35:22.952262Z",
     "iopub.status.busy": "2025-08-25T06:35:22.925680Z",
     "iopub.status.idle": "2025-08-25T06:35:23.080638Z",
     "shell.execute_reply": "2025-08-25T06:35:23.048409Z",
     "shell.execute_reply.started": "2025-08-25T06:35:22.952240Z"
    }
   },
   "outputs": [],
   "source": [
    "coef_ds = coef_result.to_dataset(dim=\"metric\")"
   ]
  },
  {
   "cell_type": "code",
   "execution_count": null,
   "id": "13c741a1-c349-4da6-9532-bb56947e4b0c",
   "metadata": {
    "execution": {
     "iopub.execute_input": "2025-08-25T06:35:23.082974Z",
     "iopub.status.busy": "2025-08-25T06:35:23.082811Z",
     "iopub.status.idle": "2025-08-25T06:35:24.377238Z",
     "shell.execute_reply": "2025-08-25T06:35:24.376177Z",
     "shell.execute_reply.started": "2025-08-25T06:35:23.082960Z"
    }
   },
   "outputs": [],
   "source": [
    "coef_ds.to_netcdf(\"run4_tides.nc\")"
   ]
  },
  {
   "cell_type": "code",
   "execution_count": null,
   "id": "c3f66865",
   "metadata": {
    "execution": {
     "iopub.execute_input": "2025-08-25T06:35:24.378071Z",
     "iopub.status.busy": "2025-08-25T06:35:24.377907Z",
     "iopub.status.idle": "2025-08-25T06:35:36.483812Z",
     "shell.execute_reply": "2025-08-25T06:35:36.483050Z",
     "shell.execute_reply.started": "2025-08-25T06:35:24.378053Z"
    }
   },
   "outputs": [],
   "source": [
    "import hvplot.xarray"
   ]
  },
  {
   "cell_type": "code",
   "execution_count": null,
   "id": "46735a8b",
   "metadata": {
    "execution": {
     "iopub.execute_input": "2025-08-25T06:35:36.484841Z",
     "iopub.status.busy": "2025-08-25T06:35:36.484504Z",
     "iopub.status.idle": "2025-08-25T06:35:36.517879Z",
     "shell.execute_reply": "2025-08-25T06:35:36.517304Z",
     "shell.execute_reply.started": "2025-08-25T06:35:36.484825Z"
    }
   },
   "outputs": [],
   "source": [
    "m2 = coef_ds.sel(constituent = \"M2\")\n",
    "m2"
   ]
  },
  {
   "cell_type": "code",
   "execution_count": null,
   "id": "3289fb76",
   "metadata": {
    "execution": {
     "iopub.execute_input": "2025-08-25T07:54:53.255928Z",
     "iopub.status.busy": "2025-08-25T07:54:53.249417Z",
     "iopub.status.idle": "2025-08-25T07:54:53.304621Z",
     "shell.execute_reply": "2025-08-25T07:54:53.303518Z",
     "shell.execute_reply.started": "2025-08-25T07:54:53.255905Z"
    }
   },
   "outputs": [],
   "source": [
    "# m2.hvplot.scatter(x='lon', y=\"lat\",c=\"amplitude\" )"
   ]
  }
 ],
 "metadata": {
  "kernelspec": {
   "display_name": ".venv (3.12.8)",
   "language": "python",
   "name": "python3"
  },
  "language_info": {
   "codemirror_mode": {
    "name": "ipython",
    "version": 3
   },
   "file_extension": ".py",
   "mimetype": "text/x-python",
   "name": "python",
   "nbconvert_exporter": "python",
   "pygments_lexer": "ipython3",
   "version": "3.12.8"
  }
 },
 "nbformat": 4,
 "nbformat_minor": 5
}
