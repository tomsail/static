{
 "cells": [
  {
   "cell_type": "code",
   "execution_count": null,
   "id": "01d8ef6c",
   "metadata": {},
   "outputs": [],
   "source": [
    "import pandas as pd\n",
    "import hvplot.pandas"
   ]
  },
  {
   "cell_type": "code",
   "execution_count": null,
   "id": "84c6aafe",
   "metadata": {},
   "outputs": [],
   "source": [
    "QUOTA = pd.DataFrame(data={\"NodeHours\":[8000]*12}, index=pd.date_range(\"2025-02-14\",freq=\"MS\",periods=12))\n",
    "QUOTA[\"CumNodeHours\"] = QUOTA[\"NodeHours\"].cumsum()\n",
    "PLAN = pd.DataFrame(data={\"NodeHours\":[3000]*3+[10000]*9}, index=pd.date_range(\"2025-02-14\",freq=\"MS\",periods=12))\n",
    "PLAN[\"CumNodeHours\"] = PLAN[\"NodeHours\"].cumsum()"
   ]
  },
  {
   "cell_type": "code",
   "execution_count": null,
   "id": "0a1625e0",
   "metadata": {},
   "outputs": [],
   "source": [
    "brey = pd.read_csv(\"sacct_energy_nodehours_brey.txt\", sep=\"\\t\")\n",
    "panos = pd.read_csv(\"sacct_energy_nodehours_panos.txt\", sep=\"\\t\")\n",
    "tomsail = pd.read_csv(\"sacct_energy_nodehours_tomsail.txt\", sep=\"\\t\")\n",
    "\n",
    "def add_info(df:pd.DataFrame, name):\n",
    "    df[\"Submit\"] = pd.to_datetime(df[\"Submit\"], errors=\"coerce\")\n",
    "    df.index = df[\"Submit\"]\n",
    "    df = df[df[\"NodeHours\"]>0]\n",
    "    df =df.rename(columns={\n",
    "        \"NodeHours\":f\"{name} usage\",\n",
    "        })\n",
    "    return df\n",
    "brey = add_info(brey,\"u101116\")\n",
    "tomsail = add_info(tomsail,\"u101170\")\n",
    "panos = add_info(panos,\"u101348\")"
   ]
  },
  {
   "cell_type": "code",
   "execution_count": null,
   "id": "29c7cdf1",
   "metadata": {},
   "outputs": [],
   "source": [
    "usage = pd.concat([brey, tomsail, panos],axis=0).fillna(0)\n",
    "usage = usage.sort_index()\n",
    "\n",
    "bar = usage[[\"u101170 usage\",\"u101116 usage\",\"u101348 usage\"]].resample(\"MS\").sum().hvplot.bar(stacked=True)\n",
    "(QUOTA[\"NodeHours\"].hvplot.bar(c=\"grey\",alpha=0.5, label=\"quota\") * bar).opts(width=900, title =\"Monthly usage, compared to quota allocated\")\n",
    "(PLAN[\"NodeHours\"].hvplot.bar(c=\"grey\",alpha=0.5, label=\"flexible quota\") * bar).opts(width=900, title =\"Monthly usage, compared to requested quota in proposal\")"
   ]
  },
  {
   "cell_type": "code",
   "execution_count": null,
   "id": "ddaf01fc",
   "metadata": {},
   "outputs": [],
   "source": [
    "usage[[\"u101116 cumulated\",\"u101348 cumulated\", \"u101170 cumulated\"]] = usage[[\"u101116 usage\",\"u101348 usage\", \"u101170 usage\"]].cumsum()"
   ]
  },
  {
   "cell_type": "code",
   "execution_count": null,
   "id": "35b53b3e",
   "metadata": {},
   "outputs": [],
   "source": [
    "usage = usage[~usage.index.duplicated(keep=\"first\")]"
   ]
  },
  {
   "cell_type": "code",
   "execution_count": null,
   "id": "941c1078",
   "metadata": {},
   "outputs": [],
   "source": [
    "QUOTA = QUOTA.rename(columns={\"CumNodeHours\":\"Allocated Quota\"})\n",
    "PLAN = PLAN.rename(columns={\"CumNodeHours\":\"Requested Quota\"})\n",
    "(usage[[\"u101116 cumulated\",\"u101170 cumulated\",\"u101348 cumulated\", ]].hvplot.area() * \n",
    " QUOTA[\"Allocated Quota\"].hvplot.line(c='k', line_dash = \"dashed\") * \n",
    " PLAN[\"Requested Quota\"].hvplot.line(c='grey', line_dash = \"dashed\")).opts(\n",
    "    xlim=(None, pd.Timestamp.now()),\n",
    "    ylim=(0,50000),\n",
    "    width=1000,\n",
    "    height=600,\n",
    "    )"
   ]
  },
  {
   "cell_type": "code",
   "execution_count": null,
   "id": "aeaa172b",
   "metadata": {},
   "outputs": [],
   "source": [
    "energy = (brey.ConsumedEnergyRaw.sum() + tomsail.ConsumedEnergyRaw.sum() + panos.ConsumedEnergyRaw.sum()) / 3.6e6\n",
    "f\"energy consumed: {energy:.2f} kWh\"\n",
    "co2 = energy * 409.8438/1000\n",
    "f\"corresponding to {co2:.2f} CO2 kg Emissions\""
   ]
  }
 ],
 "metadata": {
  "kernelspec": {
   "display_name": ".venv (3.11.9)",
   "language": "python",
   "name": "python3"
  },
  "language_info": {
   "codemirror_mode": {
    "name": "ipython",
    "version": 3
   },
   "file_extension": ".py",
   "mimetype": "text/x-python",
   "name": "python",
   "nbconvert_exporter": "python",
   "pygments_lexer": "ipython3",
   "version": "3.11.9"
  }
 },
 "nbformat": 4,
 "nbformat_minor": 5
}
