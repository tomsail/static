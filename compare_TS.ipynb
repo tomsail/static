{
 "cells": [
  {
   "cell_type": "code",
   "execution_count": null,
   "id": "5660dc1d",
   "metadata": {},
   "outputs": [],
   "source": [
    "import pandas as pd\n",
    "import numpy as np\n",
    "import hvplot.pandas"
   ]
  },
  {
   "cell_type": "markdown",
   "id": "529d22f2",
   "metadata": {},
   "source": [
    "# Comparing Time Series with Different Time Steps"
   ]
  },
  {
   "cell_type": "code",
   "execution_count": null,
   "id": "a232cac1",
   "metadata": {},
   "outputs": [],
   "source": [
    "ROOT = \"\"\n",
    "station = \"abur\" #\"abed\"\n",
    "sensor =  \"rad\" #\"bub\"\n",
    "\n",
    "def load_ts(station, sensor):\n",
    "    obs = pd.read_parquet(ROOT + f\"data/obs/{station}_{sensor}.parquet\")\n",
    "    sim = pd.read_parquet(ROOT + f\"data/models/seareport-v2.2/{station}.parquet\")\n",
    "    obs = pd.Series(obs[obs.columns[0]], name = \"obs\")\n",
    "    sim = pd.Series(sim[sim.columns[0]], name = \"sim\")\n",
    "    sim = sim.sort_index()\n",
    "    return sim, obs\n",
    "sim, obs = load_ts(station, sensor)"
   ]
  },
  {
   "cell_type": "markdown",
   "id": "7e467661",
   "metadata": {},
   "source": [
    "Let's test the different approaches on one week of data: it's more than enough"
   ]
  },
  {
   "cell_type": "code",
   "execution_count": null,
   "id": "77779138",
   "metadata": {},
   "outputs": [],
   "source": [
    "YEAR = 2022\n",
    "sim_subset = sim.loc[f\"{YEAR}-09-13\":f\"{YEAR}-09-20\"]\n",
    "obs_subset = obs.loc[f\"{YEAR}-09-13\":f\"{YEAR}-09-20\"]"
   ]
  },
  {
   "cell_type": "code",
   "execution_count": null,
   "id": "3ecc84b5",
   "metadata": {},
   "outputs": [],
   "source": [
    "sim.sort_index().index.diff().dropna().value_counts()\n",
    "obs.sort_index().index.diff().dropna().value_counts()"
   ]
  },
  {
   "cell_type": "code",
   "execution_count": null,
   "id": "923ff338",
   "metadata": {},
   "outputs": [],
   "source": [
    "(obs_subset.hvplot()*sim_subset.hvplot()).opts(width=1300, height=800, title = f\"simple comparison: model vs. observation, station: '{station}'\")"
   ]
  },
  {
   "cell_type": "markdown",
   "id": "e72beccf",
   "metadata": {},
   "source": [
    "## 1. Nearest-Neighbor Alignment\n",
    "\n",
    "**Method**: For each model timestamp, find the closest observation timestamp within a defined tolerance window\n",
    "**Advantages**:\n",
    " * No interpolation (no fictional data)\n",
    " * Preserves actual observation values\n",
    "\n",
    "**Cons**:\n",
    " * No control on the aligned signal, resulting in: \n",
    "   * missing peaks \n",
    "   * or even missing the trend (if there is noise signal looks chaotic)"
   ]
  },
  {
   "cell_type": "code",
   "execution_count": null,
   "id": "4ff7f40e",
   "metadata": {},
   "outputs": [],
   "source": [
    "aligned_data = pd.merge_asof(\n",
    "    sim_subset, obs_subset, \n",
    "    left_index=True, right_index=True,\n",
    "    tolerance=pd.Timedelta('2min'),  # Set appropriate tolerance\n",
    "    direction='nearest'\n",
    ")\n",
    "aligned_data = aligned_data.rename(columns={\"obs\": \"obs_aligned\"})\n",
    "aligned_data.sort_index().index.diff().dropna().value_counts()\n",
    "(obs_subset.hvplot() * aligned_data.hvplot()).opts(width=1300, height = 800,  title=f\"Method 1. Nearest-Neighbor Alignment, station: '{station}'\")"
   ]
  },
  {
   "cell_type": "markdown",
   "id": "8f50bfb1",
   "metadata": {},
   "source": [
    "not insteresting enough to be considered "
   ]
  },
  {
   "cell_type": "markdown",
   "id": "e229ab84",
   "metadata": {},
   "source": [
    "## Method 2. Window-Based Aggregation\n",
    "\n",
    "**Method**: Use the model timestamps as reference points and aggregate observations within a window\n",
    "\n",
    "**Advantages**:\n",
    " * we can choose between max or mean\n",
    "\n",
    "**Cons**\n",
    " * We drop some maxima (outside ouf the averaging window) if the window is not adapted\n",
    " * We end loosing information, because dropping data points"
   ]
  },
  {
   "cell_type": "code",
   "execution_count": null,
   "id": "aae99e1d",
   "metadata": {},
   "outputs": [],
   "source": [
    "def aggregate(sim, obs, window_size='7min'):\n",
    "    all_times = pd.DatetimeIndex(sorted(set(sim.index) | set(obs.index)))\n",
    "    \n",
    "    full_obs = pd.Series(np.nan, index=all_times)\n",
    "    full_obs.loc[obs.index] = obs\n",
    "    \n",
    "    window = pd.Timedelta(window_size)\n",
    "    rolling_stats = pd.DataFrame({\n",
    "        'obs_mean': full_obs.rolling(window=window, center=True).mean(),\n",
    "        'obs_max': full_obs.rolling(window=window, center=True).max(),\n",
    "        'obs_count': full_obs.rolling(window=window, center=True).count()\n",
    "    })\n",
    "    \n",
    "    result = pd.DataFrame({'sim': sim})\n",
    "    result = result.join(rolling_stats)\n",
    "    result = result[result['obs_count'] > 0].copy()\n",
    "    \n",
    "    return result\n",
    "\n",
    "df1 = aggregate(sim_subset, obs_subset)\n",
    "df1"
   ]
  },
  {
   "cell_type": "code",
   "execution_count": null,
   "id": "575c637e",
   "metadata": {},
   "outputs": [],
   "source": [
    "df2 = aggregate(sim_subset, obs_subset, window_size=\"2min\")\n",
    "df2"
   ]
  },
  {
   "cell_type": "code",
   "execution_count": null,
   "id": "39978417",
   "metadata": {},
   "outputs": [],
   "source": [
    "(obs_subset.hvplot() \n",
    " * sim_subset.hvplot()\n",
    " * df1.obs_max.hvplot(label = \"obs_max window: 7min\")\n",
    " * df2.obs_max.hvplot(label = \"obs_max window: 2min\")\n",
    ").opts(width=1300, height=800, title = f\"Method 2. Window-Based Aggregation, station: '{station}'\")"
   ]
  },
  {
   "cell_type": "markdown",
   "id": "10b4e9a3",
   "metadata": {},
   "source": [
    "## 3. Interpolating the model on the observed TS index\n",
    "\n",
    "Advantages: \n",
    " * No observation data is dropped\n",
    "\n",
    "Cons: \n",
    "\n",
    " * We create fictional data (for the model TS)\n",
    " * May result in heavy process if observed signal has high sample rate"
   ]
  },
  {
   "cell_type": "code",
   "execution_count": null,
   "id": "107d5a35",
   "metadata": {},
   "outputs": [],
   "source": [
    "def sim_on_obs(sim, obs):\n",
    "    sim = sim.drop_duplicates()\n",
    "    obs = obs.drop_duplicates()\n",
    "\n",
    "\n",
    "    df = pd.merge(sim, obs, left_index=True, right_index=True, how='outer')\n",
    "    df = df.drop_duplicates()\n",
    "    df = df[~df.index.duplicated(keep='first')]\n",
    "    print(\"merged df:\")\n",
    "    print(df.iloc[:30])\n",
    "    df['sim'] = df['sim'].interpolate(method=\"cubic\", limit_direction=\"both\")\n",
    "    df = df.dropna(subset=['obs'])\n",
    "    \n",
    "    return df\n",
    "\n",
    "df = sim_on_obs(sim_subset, obs_subset)\n",
    "print(\"final df: \")\n",
    "df"
   ]
  },
  {
   "cell_type": "code",
   "execution_count": null,
   "id": "fa3ec43c",
   "metadata": {},
   "outputs": [],
   "source": [
    "sim_, obs_ = df[\"sim\"], df[\"obs\"]\n",
    "(obs_ == obs_subset).all()"
   ]
  },
  {
   "cell_type": "code",
   "execution_count": null,
   "id": "acd6c5b7",
   "metadata": {},
   "outputs": [],
   "source": [
    "(obs_.hvplot() * sim_.hvplot(label='model: interpolated') * sim_subset.hvplot(label='model: original')).opts(\n",
    "    width=1300, height=800, title = f\"Method 3. Interpolating model on observation TS, station: '{station}'\")"
   ]
  },
  {
   "cell_type": "markdown",
   "id": "7ca12633",
   "metadata": {},
   "source": [
    "testing now with a station with a lower sampling rate than the simulation: "
   ]
  },
  {
   "cell_type": "code",
   "execution_count": null,
   "id": "ea0651c9",
   "metadata": {},
   "outputs": [],
   "source": [
    "station = \"abed\"\n",
    "sensor = \"bub\"\n",
    "\n",
    "sim, obs = load_ts(station, sensor)\n",
    "sim.sort_index().index.diff().dropna().value_counts()\n",
    "obs.sort_index().index.diff().dropna().value_counts()\n",
    "\n",
    "YEAR = 2024\n",
    "sim_subset = sim.loc[f\"{YEAR}-01-22\":f\"{YEAR}-02-01\"]\n",
    "obs_subset = obs.loc[f\"{YEAR}-01-22\":f\"{YEAR}-02-01\"]"
   ]
  },
  {
   "cell_type": "code",
   "execution_count": null,
   "id": "d265a8f2",
   "metadata": {},
   "outputs": [],
   "source": [
    "df = aggregate(sim_subset, obs_subset)\n",
    "df\n",
    "(obs_subset.hvplot() \n",
    " * sim_subset.hvplot()\n",
    " * df.obs_max.hvplot(label = \"obs_max window: 7min\")\n",
    ").opts(width=1300, height=800,  title = f\"Method 2. Window-Based Aggregation, station: '{station}'\")"
   ]
  },
  {
   "cell_type": "code",
   "execution_count": null,
   "id": "be994b70",
   "metadata": {},
   "outputs": [],
   "source": [
    "df = sim_on_obs(sim_subset, obs_subset)\n",
    "sim_, obs_ = df[\"sim\"], df[\"obs\"]\n",
    "(obs_.hvplot() * sim_.hvplot(label='model: interpolated') * sim_subset.hvplot(label='model: original')).opts(\n",
    "    width=1300, height=800, title = f\"Method 3. Interpolating model on observation TS, station: '{station}'\")"
   ]
  },
  {
   "cell_type": "markdown",
   "id": "2094f51b",
   "metadata": {},
   "source": [
    "Compare stats for the whole series"
   ]
  },
  {
   "cell_type": "code",
   "execution_count": null,
   "id": "a37e3d3a",
   "metadata": {},
   "outputs": [],
   "source": [
    "station = \"abur\"\n",
    "sensor = \"rad\"\n",
    "\n",
    "sim, obs = load_ts(station, sensor)"
   ]
  },
  {
   "cell_type": "code",
   "execution_count": null,
   "id": "ee7af40e",
   "metadata": {},
   "outputs": [],
   "source": [
    "import seastats\n",
    "df = sim_on_obs(sim, obs)\n",
    "stats = seastats.get_stats(df[\"sim\"], df[\"obs\"], quantile = 0.)\n",
    "ext3 = seastats.storms.match_extremes(df[\"sim\"], df[\"obs\"], quantile = 0.99)\n",
    "m3 = pd.DataFrame(stats, index = [\"method 3\"])\n",
    "\n",
    "df = aggregate(sim, obs)\n",
    "stats = seastats.get_stats(df[\"sim\"], df[\"obs_max\"], quantile = 0.)\n",
    "ext2 = seastats.storms.match_extremes(df[\"sim\"], df[\"obs_max\"], quantile = 0.99)\n",
    "m2 = pd.DataFrame(stats, index = [\"method 2\"])\n",
    "pd.concat([m2,m3])"
   ]
  },
  {
   "cell_type": "code",
   "execution_count": null,
   "id": "d430ca7d",
   "metadata": {},
   "outputs": [],
   "source": [
    "ext2.iloc[:5] # method 2"
   ]
  },
  {
   "cell_type": "code",
   "execution_count": null,
   "id": "83c124a7",
   "metadata": {},
   "outputs": [],
   "source": [
    "ext3.iloc[:5] # method 3"
   ]
  },
  {
   "cell_type": "code",
   "execution_count": null,
   "id": "c28b1a53",
   "metadata": {},
   "outputs": [],
   "source": [
    "station = \"abed\"\n",
    "sensor = \"bub\"\n",
    "\n",
    "sim, obs = load_ts(station, sensor)"
   ]
  },
  {
   "cell_type": "code",
   "execution_count": null,
   "id": "38b24248",
   "metadata": {},
   "outputs": [],
   "source": [
    "import seastats\n",
    "df = sim_on_obs(sim, obs)\n",
    "stats = seastats.get_stats(df[\"sim\"], df[\"obs\"], quantile = 0.)\n",
    "ext3 = seastats.storms.match_extremes(df[\"sim\"], df[\"obs\"], quantile = 0.99)\n",
    "m3 = pd.DataFrame(stats, index = [\"method 3\"])\n",
    "\n",
    "df = aggregate(sim, obs)\n",
    "stats = seastats.get_stats(df[\"sim\"], df[\"obs_max\"], quantile = 0.)\n",
    "ext2 = seastats.storms.match_extremes(df[\"sim\"], df[\"obs_max\"], quantile = 0.99)\n",
    "m2 = pd.DataFrame(stats, index = [\"method 2\"])\n",
    "pd.concat([m2,m3])"
   ]
  }
 ],
 "metadata": {
  "kernelspec": {
   "display_name": ".venv",
   "language": "python",
   "name": "python3"
  },
  "language_info": {
   "codemirror_mode": {
    "name": "ipython",
    "version": 3
   },
   "file_extension": ".py",
   "mimetype": "text/x-python",
   "name": "python",
   "nbconvert_exporter": "python",
   "pygments_lexer": "ipython3",
   "version": "3.11.9"
  }
 },
 "nbformat": 4,
 "nbformat_minor": 5
}
