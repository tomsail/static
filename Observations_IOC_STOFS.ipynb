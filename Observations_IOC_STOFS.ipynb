{
 "cells": [
  {
   "cell_type": "code",
   "execution_count": null,
   "metadata": {},
   "outputs": [],
   "source": [
    "import geopandas as gp\n",
    "import pandas as pd\n",
    "import searvey\n",
    "import hvplot.pandas"
   ]
  },
  {
   "cell_type": "code",
   "execution_count": null,
   "metadata": {},
   "outputs": [],
   "source": [
    "from shapely.geometry import Point\n",
    "def get_stofs2d_meta():\n",
    "    stofs2d = pd.read_csv(\n",
    "        \"https://polar.ncep.noaa.gov/stofs/data/stofs_2d_glo_elev_stat_v2_1_0\",\n",
    "        names=[\"coords\", \"name\"],\n",
    "        sep=\"!\",\n",
    "        header=None,\n",
    "        skiprows=1\n",
    "    )\n",
    "    stofs2d = stofs2d.assign(\n",
    "        lon=stofs2d.coords.str.split(\"\\t\", n=1).str[0].astype(float),\n",
    "        lat=stofs2d.coords.str.strip().str.rsplit(\"\\t\", n=1).str[1].astype(float),\n",
    "        stofs2d_name=stofs2d.name.str.strip(),\n",
    "    ).drop(columns=[\"coords\", \"name\"])\n",
    "    stofs2d[\"geometry\"] = [Point(xy) for xy in zip(stofs2d.lon, stofs2d.lat)]\n",
    "\n",
    "    return stofs2d\n",
    "\n",
    "\n",
    "def get_ioc_meta() -> gp.GeoDataFrame:\n",
    "    meta_web = searvey.get_ioc_stations().drop(columns=[\"lon\", \"lat\"])\n",
    "    meta_api = (\n",
    "        pd.read_json(\n",
    "            \"http://www.ioc-sealevelmonitoring.org/service.php?query=stationlist&showall=all\"\n",
    "        )\n",
    "        .drop_duplicates()\n",
    "        .drop(columns=[\"lon\", \"lat\"])\n",
    "        .rename(columns={\"Code\": \"ioc_code\", \"Lon\": \"lon\", \"Lat\": \"lat\"})\n",
    "    )\n",
    "    merged = pd.merge(\n",
    "        meta_web,\n",
    "        meta_api[[\"ioc_code\", \"lon\", \"lat\"]].drop_duplicates(),\n",
    "        on=[\"ioc_code\"],\n",
    "    )\n",
    "    return merged\n",
    "\n",
    "\n",
    "def merge_ioc_and_stofs(ioc: pd.DataFrame, stofs2d: pd.DataFrame) -> pd.DataFrame:\n",
    "    stations = pd.concat((ioc, stofs2d), ignore_index=True)\n",
    "    stations = stations.assign(unique_id=stations.ioc_code.combine_first(stations.stofs2d_name))\n",
    "    return stations"
   ]
  },
  {
   "cell_type": "code",
   "execution_count": null,
   "metadata": {},
   "outputs": [],
   "source": [
    "ioc = get_ioc_meta()\n",
    "stofs2d = get_stofs2d_meta()\n",
    "m = merge_ioc_and_stofs(ioc=ioc, stofs2d=stofs2d)\n",
    "m.to_csv(\"assets/ioc_stofs.csv\")"
   ]
  },
  {
   "cell_type": "markdown",
   "metadata": {},
   "source": [
    "you can grab the csv file at: https://github.com/tomsail/static/assets/ioc_stofs.csv"
   ]
  },
  {
   "cell_type": "code",
   "execution_count": null,
   "metadata": {},
   "outputs": [],
   "source": [
    "(ioc.hvplot.points(\n",
    "    x='lon', y='lat', \n",
    "    geo=True, \n",
    "    s=50,\n",
    "    tiles = True, \n",
    "    cmap = \"coolwarm\", \n",
    "    hover_cols=[\"unique_id\"], \n",
    ")*stofs2d.hvplot.points(\n",
    "    x='lon', y='lat', \n",
    "    geo=True, \n",
    "    tiles = True, \n",
    "    cmap = \"coolwarm\", \n",
    "    hover_cols=[\"unique_id\"], \n",
    ")).opts(\n",
    "    width = 1800, \n",
    "    height=1000,\n",
    "    title=\"False = STOFS list, True = IOC database\", \n",
    ")"
   ]
  }
 ],
 "metadata": {
  "kernelspec": {
   "display_name": "pos_test",
   "language": "python",
   "name": "python3"
  },
  "language_info": {
   "codemirror_mode": {
    "name": "ipython",
    "version": 3
   },
   "file_extension": ".py",
   "mimetype": "text/x-python",
   "name": "python",
   "nbconvert_exporter": "python",
   "pygments_lexer": "ipython3",
   "version": "3.11.8"
  }
 },
 "nbformat": 4,
 "nbformat_minor": 2
}
