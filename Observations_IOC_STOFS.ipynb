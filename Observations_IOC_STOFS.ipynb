{
 "cells": [
  {
   "cell_type": "code",
   "execution_count": null,
   "metadata": {},
   "outputs": [],
   "source": [
    "import geopandas as gp\n",
    "import pandas as pd\n",
    "import searvey\n",
    "import hvplot.pandas"
   ]
  },
  {
   "cell_type": "code",
   "execution_count": null,
   "metadata": {},
   "outputs": [],
   "source": [
    "def get_meta() -> gp.GeoDataFrame:\n",
    "    meta_web = searvey.get_ioc_stations().drop(columns=[\"lon\", \"lat\"])\n",
    "    meta_api = (\n",
    "        pd.read_json(\n",
    "            \"http://www.ioc-sealevelmonitoring.org/service.php?query=stationlist&showall=all\"\n",
    "        )\n",
    "        .drop_duplicates()\n",
    "        .drop(columns=[\"lon\", \"lat\"])\n",
    "        .rename(columns={\"Code\": \"ioc_code\", \"Lon\": \"lon\", \"Lat\": \"lat\"})\n",
    "    )\n",
    "    merged = pd.merge(\n",
    "        meta_web,\n",
    "        meta_api[[\"ioc_code\", \"lon\", \"lat\"]].drop_duplicates(),\n",
    "        on=[\"ioc_code\"],\n",
    "    )\n",
    "    return merged.drop(columns=[\"geometry\"])\n",
    "\n",
    "ioc_ = get_meta()\n",
    "ioc_[\"is_ioc\"] = True\n",
    "ioc_['is_satellite'] = False\n",
    "ioc_"
   ]
  },
  {
   "cell_type": "code",
   "execution_count": null,
   "metadata": {},
   "outputs": [],
   "source": [
    "mycols = [str(i) for i in range(6)] # we expect 17 cols max in that file\n",
    "stof2d = pd.read_csv(\n",
    "    \"https://polar.ncep.noaa.gov/stofs/data/stofs_2d_glo_elev_stat_v2_1_0\",\n",
    "    names=mycols, \n",
    "    sep=\"\\t+|!\", \n",
    "    header=None, \n",
    "    skiprows=1\n",
    ")\n",
    "stof2d['Info'] = stof2d.apply(lambda row: ' '.join(filter(None, row[2:])), axis=1)\n",
    "stof2d['ID'] = stof2d['Info'].apply(lambda x: ' '.join(x.split()[:3]))\n",
    "stof2d['Info'] = stof2d.apply(lambda row: row['Info'].replace(row['ID'], '').strip(), axis=1)\n",
    "stof2d = stof2d.drop(columns=[\"2\", \"3\", \"4\", \"5\"])\n",
    "stof2d.rename(columns={\"0\": 'lon', \"1\": 'lat'}, inplace=True)\n",
    "stof2d['is_satellite'] = stof2d.apply(lambda row: \"SA\" in row[\"ID\"], axis=1)\n",
    "stof2d['is_ioc'] = False\n",
    "stof2d"
   ]
  },
  {
   "cell_type": "code",
   "execution_count": null,
   "metadata": {},
   "outputs": [],
   "source": [
    "m = pd.merge(stof2d, ioc_,on=['lon', 'lat'], how='outer')\n",
    "m"
   ]
  },
  {
   "cell_type": "code",
   "execution_count": null,
   "metadata": {},
   "outputs": [],
   "source": [
    "m['is_ioc'] = m['is_ioc_x'].fillna(m['is_ioc_y'])\n",
    "m['is_satellite'] = m['is_satellite_x'].fillna(m['is_satellite_y'])\n",
    "m[\"id\"] = m[\"ID\"].fillna(m[\"ioc_code\"])\n",
    "m = m.drop(columns=['is_ioc_x', 'is_ioc_y', 'is_satellite_x', 'is_satellite_y'])\n",
    "m"
   ]
  },
  {
   "cell_type": "code",
   "execution_count": null,
   "metadata": {},
   "outputs": [],
   "source": [
    "m.hvplot.points(\n",
    "    x='lon', y='lat', \n",
    "    c='is_ioc', \n",
    "    geo=True, \n",
    "    tiles = True, \n",
    "    cmap = \"coolwarm\", \n",
    "    hover_cols=[\"id\"], \n",
    ").opts(\n",
    "    width = 1800, \n",
    "    height=1000,\n",
    "    title=\"False = STOFS list, True = IOC database\", \n",
    ")"
   ]
  },
  {
   "cell_type": "code",
   "execution_count": null,
   "metadata": {},
   "outputs": [],
   "source": [
    "m.hvplot.points(\n",
    "    x='lon', y='lat', \n",
    "    c='is_satellite', \n",
    "    geo=True, \n",
    "    tiles = True, \n",
    "    cmap = \"coolwarm\", \n",
    "    hover_cols=[\"id\"], \n",
    ").opts(\n",
    "    width = 1800, \n",
    "    height=1000,\n",
    "    title=\"Does the Point corresponds to setellite location? False / True\", \n",
    ")"
   ]
  }
 ],
 "metadata": {
  "kernelspec": {
   "display_name": "pos_test",
   "language": "python",
   "name": "python3"
  },
  "language_info": {
   "codemirror_mode": {
    "name": "ipython",
    "version": 3
   },
   "file_extension": ".py",
   "mimetype": "text/x-python",
   "name": "python",
   "nbconvert_exporter": "python",
   "pygments_lexer": "ipython3",
   "version": "3.11.8"
  }
 },
 "nbformat": 4,
 "nbformat_minor": 2
}
