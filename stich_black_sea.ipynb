{
 "cells": [
  {
   "cell_type": "code",
   "execution_count": null,
   "id": "f6cb9dd5",
   "metadata": {},
   "outputs": [],
   "source": [
    "import hvplot.pandas\n",
    "import holoviews as hv\n",
    "import pandas as pd\n",
    "import geopandas as gp\n",
    "import geoviews as gv\n",
    "import shapely\n",
    "import panel as pn\n",
    "from shapely.geometry import Polygon, LineString, Point\n",
    "# from pyposeidon.utils.cfl import parse_hgrid\n",
    "from __future__ import annotations\n",
    "\n",
    "import collections\n",
    "import io\n",
    "import itertools\n",
    "import os\n",
    "import typing as T\n",
    "\n",
    "import numpy as np\n",
    "import numpy.typing as npt\n",
    "\n",
    "VOSPOROS_SOUTH = shapely.Polygon([\n",
    "    (26.77069525861703, 40.44054922299234),\n",
    "    (26.563328315257657, 40.4133689586624),\n",
    "    (26.115328982567448, 39.99024357789592),\n",
    "    (26.394107058739323, 39.98182584129004),\n",
    "    (26.785494998192448, 40.342851238592424),\n",
    "    (26.77069525861703, 40.44054922299234),\n",
    "])\n",
    "def _readline(fd: bytes) -> bytes:\n",
    "    return fd.readline().split(b\"=\")[0].split(b\"!\")[0].strip()\n",
    "\n",
    "\n",
    "def parse_hgrid(\n",
    "    path: os.PathLike[str] | str,\n",
    "    include_boundaries: bool = False,\n",
    "    sep: str | None = None,\n",
    ") -> dict[str, T.Any]:\n",
    "    \"\"\"\n",
    "    Parse an hgrid.gr3 file.\n",
    "\n",
    "    The function is also able to handle fort.14 files, too, (i.e. ADCIRC)\n",
    "    but the boundary parsing is not keeping all the available information.\n",
    "    \"\"\"\n",
    "    rvalue: dict[str, T.Any] = {}\n",
    "    with open(path, \"rb\") as fd:\n",
    "        _ = fd.readline()  # skip line\n",
    "        no_elements, no_points = map(int, fd.readline().strip().split(b\"!\")[0].split())\n",
    "        nodes_buffer = io.BytesIO(b\"\\n\".join(itertools.islice(fd, 0, no_points)))\n",
    "        nodes = np.loadtxt(nodes_buffer, delimiter=sep, usecols=(1, 2, 3))\n",
    "        elements_buffer = io.BytesIO(b\"\\n\".join(itertools.islice(fd, 0, no_elements)))\n",
    "        elements = np.loadtxt(elements_buffer, delimiter=sep, usecols=(2, 3, 4), dtype=int)\n",
    "        elements -= 1  # 0-based index for the nodes\n",
    "        rvalue[\"nodes\"] = nodes\n",
    "        rvalue[\"elements\"] = elements\n",
    "        # boundaries\n",
    "        if include_boundaries:\n",
    "            boundaries = collections.defaultdict(list)\n",
    "            no_open_boundaries = int(_readline(fd))\n",
    "            total_open_boundary_nodes = int(_readline(fd))\n",
    "            for i in range(no_open_boundaries):\n",
    "                no_nodes_in_boundary = int(_readline(fd))\n",
    "                boundary_nodes = np.genfromtxt(fd, delimiter=sep, usecols=(0,), max_rows=no_nodes_in_boundary, dtype=int)\n",
    "                boundaries[\"open\"].append(boundary_nodes - 1)  # 0-based index\n",
    "            # closed boundaries\n",
    "            no_closed_boundaries = int(_readline(fd))\n",
    "            total_closed_boundary_nodes = int(_readline(fd))\n",
    "            for _ in range(no_closed_boundaries):\n",
    "                # Sometimes it seems that the closed boundaries don't have a \"type indicator\"\n",
    "                # For example: Test_COSINE_SFBay/hgrid.gr3\n",
    "                # In this cases we assume that boundary type is 0 (i.e. land in schism)\n",
    "                # XXX Maybe check the source code?\n",
    "                parsed = _readline(fd).split(b\" \")\n",
    "                if len(parsed) == 1:\n",
    "                    no_nodes_in_boundary = int(parsed[0])\n",
    "                    boundary_type = 0\n",
    "                else:\n",
    "                    no_nodes_in_boundary, boundary_type = map(int, parsed)\n",
    "                boundary_nodes = np.genfromtxt(fd, delimiter=sep, usecols=(0,), max_rows=no_nodes_in_boundary, dtype=int)\n",
    "                boundary_nodes -= 1  # 0-based-index\n",
    "                boundaries[boundary_type].append(boundary_nodes)\n",
    "            rvalue[\"boundaries\"] = boundaries\n",
    "    return rvalue\n",
    "\n",
    "def extract_area(x: np.ndarray, y: np.ndarray, triangles: np.ndarray, lon_range: tuple[float, float], lat_range: tuple[float, float]):\n",
    "    mask = (x >= lon_range[0]) & (x <= lon_range[1]) & \\\n",
    "           (y >= lat_range[0]) & (y <= lat_range[1])\n",
    "    node_indices = np.where(mask)[0]\n",
    "    node_map = {old: new for new, old in enumerate(node_indices)}\n",
    "    node_map_reverse = {new: old for new, old in enumerate(node_indices)}\n",
    "    extracted_x = x[node_indices]\n",
    "    extracted_y = y[node_indices]\n",
    "    triangle_indices = np.array([idx for idx, tri in enumerate(triangles) if all(i in node_map for i in tri)])\n",
    "    extracted_triangles = triangles[triangle_indices]\n",
    "    extracted_triangles = np.array([[node_map[i] for i in tri] for tri in extracted_triangles])\n",
    "    \n",
    "    return extracted_x, extracted_y, extracted_triangles, node_indices, triangle_indices, node_map_reverse\n",
    "\n",
    "# 2. Convert triangulation to GeoDataFrame with MultiPolygons\n",
    "def tri_to_geopandas(points, tris, values):\n",
    "    \"\"\"Convert triangulation to GeoDataFrame with values for coloring\"\"\"\n",
    "    polygons = [Polygon(points[tri]) for tri in tris]\n",
    "\n",
    "    gdf = gp.GeoDataFrame({\n",
    "        'A': values[tris[:,0]],\n",
    "        'B': values[tris[:,1]],\n",
    "        'C': values[tris[:,2]],\n",
    "        'geometry': polygons\n",
    "        },\n",
    "        crs=\"EPSG:4326\"  # using WGS84 for demonstration\n",
    "    )    \n",
    "    return gdf\n",
    "\n",
    "def drop(nodes, elems, drop_indices):\n",
    "    drop_indices = np.unique(drop_indices)\n",
    "    keep_mask = np.ones(len(nodes), dtype=bool)\n",
    "    keep_mask[drop_indices] = False\n",
    "    nodes = nodes[keep_mask]\n",
    "    old_to_new = -np.ones(len(keep_mask), dtype=int)\n",
    "    old_to_new[np.where(keep_mask)[0]] = np.arange(len(nodes))\n",
    "    mask_valid = np.all(np.isin(elems, np.where(keep_mask)[0]), axis=1)\n",
    "    elems = elems[mask_valid]\n",
    "    elems = old_to_new[elems]\n",
    "    return nodes, elems\n",
    "\n",
    "def render_gdf(gdf, case = \"global\"):\n",
    "    if case == 'global':\n",
    "        color = 'red'\n",
    "    elif case == 'black sea': \n",
    "        color = \"blue\"\n",
    "    else:\n",
    "        raise ValueError(\"case has to be 'global' or 'black sea'!\")\n",
    "\n",
    "    if isinstance(gdf, gp.GeoDataFrame):\n",
    "        return gdf.hvplot(geo=True, tiles=True, c=color, label=case)\n",
    "    elif isinstance(gdf, pd.DataFrame):\n",
    "        return gdf.hvplot.points(geo=True, tiles=True, c=color, line_color='k', tools=[\"box_select\"], hover_cols = ['index'], label=case)\n",
    "    \n",
    "\n",
    "def subset_gdf(gdf, poly: shapely.Polygon):\n",
    "    return gdf[gdf.geometry.within(poly)]\n",
    "\n",
    "def polygon_to_points(gdf):\n",
    "    coords_index = []\n",
    "    for g in gdf.iterrows(): \n",
    "        coords_index.append([*g[1].geometry.exterior.xy, np.array([g[1].A,g[1].B,g[1].C,g[1].A])])\n",
    "    pp = np.array(coords_index).transpose(0, 2, 1).reshape(-1, 3)\n",
    "    return pd.DataFrame(pp, columns=['lon', 'lat', 'index'])"
   ]
  },
  {
   "cell_type": "code",
   "execution_count": null,
   "id": "63560c6d",
   "metadata": {},
   "outputs": [],
   "source": [
    "file = \"/home/tomsail/Documents/work/python/seareport_org/seareport_models/v3.2/GSHHS_f_0.01_final.gr3\"\n",
    "mesh_dic = parse_hgrid(file)"
   ]
  },
  {
   "cell_type": "code",
   "execution_count": null,
   "id": "f53e91de",
   "metadata": {},
   "outputs": [],
   "source": [
    "x, y, depth = mesh_dic['nodes'].T\n",
    "tris = mesh_dic[\"elements\"]"
   ]
  },
  {
   "cell_type": "markdown",
   "id": "21fa940e",
   "metadata": {},
   "source": [
    "subset global mesh to vosphoros south strait"
   ]
  },
  {
   "cell_type": "code",
   "execution_count": null,
   "id": "9e6aa803",
   "metadata": {},
   "outputs": [],
   "source": [
    "x_, y_, tri_, ind_, tri_sub, node_mapping = extract_area(x,y,tris, (25,45), (40,48))\n",
    "gdf_ = tri_to_geopandas(np.vstack((x_, y_)).T,tri_, ind_)\n",
    "global_vosphoros_gdf = subset_gdf(gdf_, VOSPOROS_SOUTH)\n",
    "global_vosphoros_points = polygon_to_points(global_vosphoros_gdf)"
   ]
  },
  {
   "cell_type": "code",
   "execution_count": null,
   "id": "a9a57fa4",
   "metadata": {},
   "outputs": [],
   "source": [
    "points_ = render_gdf(global_vosphoros_points)\n",
    "global_vosphoros_ = render_gdf(global_vosphoros_gdf)\n",
    "(global_vosphoros_ * points_).opts(width = 1000, height=800)"
   ]
  },
  {
   "cell_type": "code",
   "execution_count": null,
   "id": "b65e3f6a",
   "metadata": {},
   "outputs": [],
   "source": [
    "from pyposeidon.mgmsh import read_msh\n",
    "\n",
    "black_sea_mesh = read_msh(\"out_blacksea_0.2.msh\")\n",
    "bs_pts = np.vstack((black_sea_mesh.SCHISM_hgrid_node_x, black_sea_mesh.SCHISM_hgrid_node_y)).T\n",
    "bs_tri = black_sea_mesh.SCHISM_hgrid_face_nodes.data\n",
    "black_sea_mesh"
   ]
  },
  {
   "cell_type": "code",
   "execution_count": null,
   "id": "f75ca61f",
   "metadata": {},
   "outputs": [],
   "source": [
    "gdf_ = tri_to_geopandas(bs_pts, bs_tri, np.arange(len(bs_pts)))\n",
    "black_sea_vosporos_gdf = subset_gdf(gdf_, VOSPOROS_SOUTH)\n",
    "black_sea_vosporos_points = polygon_to_points(black_sea_vosporos_gdf)\n",
    "black_sea_vosporos_ = render_gdf(black_sea_vosporos_gdf, \"black sea\")"
   ]
  },
  {
   "cell_type": "code",
   "execution_count": null,
   "id": "4e5ba9f2",
   "metadata": {},
   "outputs": [],
   "source": [
    "selection = hv.streams.Selection1D(source=points_)\n",
    "# Create a function to print selected points\n",
    "def print_all_points(df: pd.DataFrame, indices: pd.Index[int], text_box: pn.widgets.TextAreaInput) -> T.Any:\n",
    "    print(\"Selected indices:\", indices)\n",
    "    if indices:\n",
    "        ind = np.unique(indices)\n",
    "        list = df[\"index\"].iloc[ind].astype(int).unique()\n",
    "        value = \",\\n\".join(map(str, list))\n",
    "    else:\n",
    "        value = \"No selection!\"\n",
    "    text_box.value = value\n",
    "\n",
    "points_all = pn.widgets.TextAreaInput(value=\"\", height=200, placeholder=\"Selected indices will appear here\")  # type: ignore[no-untyped-call]\n",
    "selection.add_subscriber(lambda index: print_all_points(df=global_vosphoros_points, indices=index, text_box=points_all))\n",
    "\n",
    "plot_ = (black_sea_vosporos_ * global_vosphoros_ * points_).opts(width = 700, height=800)\n",
    "layout = pn.Column(\n",
    "    points_.opts(width=900, height=500),\n",
    "    pn.Row(\n",
    "        pn.Column(\"## Selected Indices:\", points_all),\n",
    "    ),\n",
    ")    \n",
    "out = pn.panel(layout).servable()\n",
    "out"
   ]
  },
  {
   "cell_type": "markdown",
   "id": "0c522454",
   "metadata": {},
   "source": [
    "we'll fix the following points and regenerate the meshing for the black sea"
   ]
  },
  {
   "cell_type": "code",
   "execution_count": null,
   "id": "edb4831b",
   "metadata": {},
   "outputs": [],
   "source": [
    "pts_ind = [6817898,\n",
    "6697291,\n",
    "6549074,\n",
    "1714532,\n",
    "1473386]\n",
    "coords = mesh_dic['nodes'][pts_ind][:,:2]\n",
    "gdf = gp.GeoDataFrame(\n",
    "    pd.DataFrame(coords, columns=[\"lon\", \"lat\"]),\n",
    "    geometry=[Point(xy) for xy in coords],\n",
    "    crs=\"EPSG:4326\"\n",
    ")\n",
    "gdf['physical'] = \"force\"\n",
    "gdf\n",
    "gdf.to_file(\"points_4326.shp\", driver='ESRI Shapefile')"
   ]
  },
  {
   "cell_type": "markdown",
   "id": "a132a778",
   "metadata": {},
   "source": [
    "all these points need to be suppressed"
   ]
  },
  {
   "cell_type": "code",
   "execution_count": null,
   "id": "f2b8ba12",
   "metadata": {},
   "outputs": [],
   "source": [
    "global_nodes = np.vstack((x,y)).T"
   ]
  },
  {
   "cell_type": "code",
   "execution_count": null,
   "id": "5a8c64d5",
   "metadata": {},
   "outputs": [],
   "source": [
    "discard = [1807639,456464,4792637,2451328,39451,5503929,4015013,6409047,2134299,4386548,4967757,\n",
    "4856350,7851069,1324320,3643482,7452558,512577,6384066,677206,2528912,7294189,\n",
    "167240,5582097,7382856,4192983,7134380,1647070,7700285,7907239,2334291,3421735,363349,\n",
    "7046390,5460790,1145947,1314347,2426245,5698280,3282119,4838108,332392,6336320,1580434,\n",
    "4864137,2614067,263530,1928581,1756355,4590953,47220,4869691,3173761,7342931,551330,189622,\n",
    "2312122,7482244,5405589,4401906]\n",
    "\n",
    "nno, ell = drop(global_nodes, tris, discard)"
   ]
  },
  {
   "cell_type": "code",
   "execution_count": null,
   "id": "29d20f50",
   "metadata": {},
   "outputs": [],
   "source": [
    "llo, lla, tri_indices, node_indices, tri_sub, node_mapping = extract_area(nno[:,0],nno[:,1],ell, (25,45), (40,48))\n",
    "global_black_sea_gdf = tri_to_geopandas(np.vstack((llo,lla)).T, tri_indices, node_indices)\n",
    "global_vosphoros_gdf = global_black_sea_gdf[global_black_sea_gdf.geometry.within(VOSPOROS_SOUTH)]\n",
    "global_vosphoros_ = render_gdf(global_vosphoros_gdf)"
   ]
  },
  {
   "cell_type": "code",
   "execution_count": null,
   "id": "6f59574f",
   "metadata": {},
   "outputs": [],
   "source": [
    "# now create points from the black sea mesh\n",
    "points2_ = render_gdf(black_sea_vosporos_points, \"black sea\")"
   ]
  },
  {
   "cell_type": "code",
   "execution_count": null,
   "id": "4907e653",
   "metadata": {},
   "outputs": [],
   "source": [
    "selection = hv.streams.Selection1D(source=points2_)\n",
    "points_all = pn.widgets.TextAreaInput(value=\"\", height=200, placeholder=\"Selected indices will appear here\")  # type: ignore[no-untyped-call]\n",
    "def print_all_points(df: pd.DataFrame, indices: pd.Index[int], text_box: pn.widgets.TextAreaInput) -> T.Any:\n",
    "    print(\"Selected indices:\", indices)\n",
    "    if indices:\n",
    "        ind = np.unique(indices)\n",
    "        list = df[\"index\"].iloc[ind].astype(int).unique()\n",
    "        value = \",\\n\".join(map(str, list))\n",
    "    else:\n",
    "        value = \"No selection!\"\n",
    "    text_box.value = value\n",
    "\n",
    "selection.add_subscriber(lambda index: print_all_points(df=black_sea_vosporos_points, indices=index, text_box=points_all))\n",
    "plot_ = (black_sea_vosporos_ * global_vosphoros_ * points_ * points2_).opts(width = 700, height=800)\n",
    "layout = pn.Column(\n",
    "    plot_.opts(width=900, height=500),\n",
    "    pn.Row(\n",
    "        pn.Column(\"## Selected Indices:\", points_all),\n",
    "    ),\n",
    ")    \n",
    "out = pn.panel(layout).servable()\n",
    "out"
   ]
  },
  {
   "cell_type": "markdown",
   "id": "fcae143b",
   "metadata": {},
   "source": [
    "here are the following node to drop on the back sea mesh"
   ]
  },
  {
   "cell_type": "code",
   "execution_count": null,
   "id": "75b56ce9",
   "metadata": {},
   "outputs": [],
   "source": [
    "discard2 = [13598,39688,31622,28962,28963,528,529,522,28379,17111,29402,37351,23225,17568,45282,46776,\n",
    "           523,46587,31245,46194,48307,524,47748,44,48416,519,518,42,520,525,521,527,526,35710,43,149, 145]\n",
    "\n",
    "new_bs_pts, new_bs_tri = drop(bs_pts,bs_tri, discard2)"
   ]
  },
  {
   "cell_type": "code",
   "execution_count": null,
   "id": "ad1cf81b",
   "metadata": {},
   "outputs": [],
   "source": [
    "new_black_sea_gdf = tri_to_geopandas(new_bs_pts, new_bs_tri, np.arange(len(new_bs_pts)))\n",
    "new_bs_vosphoros_gdf = new_black_sea_gdf[new_black_sea_gdf.geometry.within(VOSPOROS_SOUTH)]\n",
    "new_black_sea_vosporos_points = polygon_to_points(new_bs_vosphoros_gdf)\n",
    "new_points2_ = render_gdf(new_black_sea_vosporos_points, \"black sea\")"
   ]
  },
  {
   "cell_type": "code",
   "execution_count": null,
   "id": "0746abc2",
   "metadata": {},
   "outputs": [],
   "source": [
    "plot_ = (render_gdf(global_vosphoros_gdf) * \n",
    "         render_gdf(new_bs_vosphoros_gdf, case = \"black sea\") * points_ * new_points2_).opts(width = 700, height=800)"
   ]
  },
  {
   "cell_type": "code",
   "execution_count": null,
   "id": "1578244c",
   "metadata": {},
   "outputs": [],
   "source": [
    "plot_"
   ]
  },
  {
   "cell_type": "code",
   "execution_count": null,
   "id": "b8d5f555",
   "metadata": {},
   "outputs": [],
   "source": [
    "stitching_map = dict([\n",
    "    [512, 7732209],\n",
    "    [144, 1714532],\n",
    "    [143, 6549074],\n",
    "    [142, 6697291],\n",
    "    [37476, 3418943],\n",
    "    [22941, 1473386]\n",
    "])"
   ]
  },
  {
   "cell_type": "code",
   "execution_count": null,
   "id": "4d400264",
   "metadata": {},
   "outputs": [],
   "source": [
    "import numpy as np\n",
    "\n",
    "def stitch_meshes(global_nodes, global_elements, bs_pts, bs_tri, stitching_map):\n",
    "    mapped_bs_indices = set(stitching_map.keys())\n",
    "    unmapped_bs_indices = [i for i in range(len(bs_pts)) if i not in mapped_bs_indices]\n",
    "\n",
    "    index_mapping = {}\n",
    "    new_nodes = global_nodes.tolist()\n",
    "\n",
    "    for i in unmapped_bs_indices:\n",
    "        new_index = len(new_nodes)\n",
    "        index_mapping[i] = new_index\n",
    "        # Insert with dummy z-value (can be interpolated or set to 0)\n",
    "        new_nodes.append([bs_pts[i][0], bs_pts[i][1], 0.0])\n",
    "\n",
    "    for bs_idx, global_idx in stitching_map.items():\n",
    "        index_mapping[bs_idx] = global_idx\n",
    "\n",
    "    new_elements = []\n",
    "    for tri in bs_tri:\n",
    "        new_tri = [index_mapping[idx] for idx in tri]\n",
    "        new_elements.append(new_tri)\n",
    "\n",
    "    all_elements = np.vstack([global_elements, np.array(new_elements, dtype=int)])\n",
    "\n",
    "    return np.array(new_nodes), all_elements\n"
   ]
  },
  {
   "cell_type": "code",
   "execution_count": null,
   "id": "f6acb936",
   "metadata": {},
   "outputs": [],
   "source": [
    "stiched_nodes, stiched_tri = stitch_meshes(mesh_dic['nodes'], mesh_dic['elements'], new_bs_pts, new_bs_tri, stitching_map)\n",
    "stiched_nodes_fix, stiched_tri_fix = drop(stiched_nodes, stiched_tri, discard)"
   ]
  },
  {
   "cell_type": "code",
   "execution_count": null,
   "id": "aff77f6b",
   "metadata": {},
   "outputs": [],
   "source": [
    "%matplotlib widget"
   ]
  },
  {
   "cell_type": "code",
   "execution_count": null,
   "id": "60a45130",
   "metadata": {},
   "outputs": [],
   "source": [
    "import matplotlib.pyplot as plt\n",
    "fig, ax = plt.subplots(figsize = (10,6))\n",
    "ax.triplot(stiched_nodes_fix[:,0], stiched_nodes_fix[:,1], stiched_tri_fix, lw=0.2)\n",
    "ax.set_xlim([26,30])\n",
    "ax.set_ylim([39.75,41.5])"
   ]
  },
  {
   "cell_type": "code",
   "execution_count": null,
   "id": "4bd3c0c5",
   "metadata": {},
   "outputs": [],
   "source": [
    "import meshio\n",
    "\n",
    "points = np.column_stack((stiched_nodes_fix[:,0], stiched_nodes_fix[:,1], np.zeros(len(stiched_nodes_fix))))  # Add z=0\n",
    "cells = [(\"triangle\", stiched_tri_fix)]\n",
    "mesh = meshio.Mesh(points=points, cells=cells)\n",
    "mesh.write(\"output_mesh.vtk\")"
   ]
  },
  {
   "cell_type": "code",
   "execution_count": null,
   "id": "7fe54b7e",
   "metadata": {},
   "outputs": [],
   "source": [
    "from xarray_selafin.xarray_backend import SelafinAccessor\n",
    "import xarray as xr\n",
    "\n",
    "ds = xr.Dataset({\n",
    "    \"B\": ((\"time\", \"node\"), np.zeros((1,len(stiched_nodes_fix)))),\n",
    "    },\n",
    "    coords = {\n",
    "        \"x\" : (\"node\", stiched_nodes_fix[:,0]),\n",
    "        \"y\" : (\"node\", stiched_nodes_fix[:,1]),\n",
    "        \"time\": [pd.Timestamp.now()]\n",
    "    } )\n",
    "ds.attrs['ikle2'] = stiched_tri_fix + 1\n",
    "ds"
   ]
  },
  {
   "cell_type": "code",
   "execution_count": null,
   "id": "22311e5e",
   "metadata": {},
   "outputs": [],
   "source": [
    "ds.selafin.write('out.slf')"
   ]
  }
 ],
 "metadata": {
  "kernelspec": {
   "display_name": "pos_test",
   "language": "python",
   "name": "python3"
  },
  "language_info": {
   "codemirror_mode": {
    "name": "ipython",
    "version": 3
   },
   "file_extension": ".py",
   "mimetype": "text/x-python",
   "name": "python",
   "nbconvert_exporter": "python",
   "pygments_lexer": "ipython3",
   "version": "3.11.8"
  }
 },
 "nbformat": 4,
 "nbformat_minor": 5
}
