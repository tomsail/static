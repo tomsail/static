{
 "cells": [
  {
   "cell_type": "code",
   "execution_count": null,
   "metadata": {},
   "outputs": [],
   "source": [
    "import numpy as np\n",
    "import holoviews as hv\n",
    "import pandas as pd\n",
    "from bokeh.models import HoverTool\n",
    "from holoviews import opts\n",
    "import hvplot.pandas\n",
    "hv.extension('bokeh')"
   ]
  },
  {
   "cell_type": "code",
   "execution_count": null,
   "metadata": {},
   "outputs": [],
   "source": [
    "def create_std_dev_circles(std_dev_range: np.ndarray) -> hv.Overlay:\n",
    "    std_dev_circles = []\n",
    "    for std in std_dev_range:\n",
    "        angle = np.linspace(0, np.pi/2, 100)\n",
    "        radius = np.full(100, std)\n",
    "        x = radius * np.cos(angle)\n",
    "        y = radius * np.sin(angle)\n",
    "        std_dev_circles.append(\n",
    "            hv.Curve((x, y)).opts(color='gray', line_dash='dotted', line_width=1)\n",
    "        )\n",
    "    return hv.Overlay(std_dev_circles)\n",
    "\n",
    "def create_std_ref(radius: float) -> hv.Overlay:\n",
    "    angle = np.linspace(0, np.pi/2, 100)\n",
    "    x = radius * np.cos(angle)\n",
    "    y = radius * np.sin(angle)\n",
    "    return hv.Curve((x, y)).opts(color='gray', line_dash='dashed', line_width=2) * \\\n",
    "        hv.Text(radius, 0., f'REF', halign='right', valign='bottom').opts(\n",
    "            text_font_size='10pt', text_color='gray')\n",
    "\n",
    "\n",
    "def create_corr_lines(corr_range: np.ndarray, std_dev_max: float) -> hv.Overlay:\n",
    "    corr_lines = []\n",
    "    for corr in corr_range:\n",
    "        theta = np.arccos(corr)\n",
    "        radius = np.linspace(0, std_dev_max, 2)\n",
    "        x = radius * np.cos(theta)\n",
    "        y = radius * np.sin(theta)\n",
    "        corr_lines.append(\n",
    "            hv.Curve((x, y)).opts(color='blue', line_dash='dashed', line_width=1) *\n",
    "            hv.Text(x[-1], y[-1], f'{corr:.2f}', halign='left', valign='bottom').opts(\n",
    "                text_font_size='10pt', text_color='blue')\n",
    "        )\n",
    "    corr_label = hv.Text( 0.75 * std_dev_max, 0.75 * std_dev_max, f'Correlation Coefficient' ).opts( text_font_size='12pt', text_color='blue', angle=-45 )\n",
    "    return hv.Overlay(corr_lines) * corr_label\n",
    "\n",
    "def create_rms_contours(standard_ref: float, std_dev_max: float, rms_range: np.ndarray, norm:bool) -> hv.Overlay:\n",
    "    rms_contours = []\n",
    "    for rms in rms_range:\n",
    "        angle = np.linspace(0, np.pi, 100)\n",
    "        x = standard_ref + rms * np.cos(angle)\n",
    "        y = rms * np.sin(angle)\n",
    "        inside_max_std = np.sqrt(x**2 + y**2) < std_dev_max\n",
    "        x[~inside_max_std] = np.nan\n",
    "        y[~inside_max_std] = np.nan\n",
    "        rms_contours.append(\n",
    "            hv.Curve((x, y)).opts(color='green', line_dash='dashed', line_width=1) *\n",
    "            hv.Text(standard_ref + rms * np.cos(2*np.pi/3), rms * np.sin(2*np.pi/3), f'{rms:.2f}', halign='left', valign='bottom').opts(\n",
    "                text_font_size='10pt', text_color='green')\n",
    "        )\n",
    "    label = \"RMS %\" if norm else \"RMS\"\n",
    "    rms_label = hv.Text( standard_ref, rms_range[1]*np.sin(np.pi/2), label, halign='left', valign='bottom' ).opts( text_font_size='11pt', text_color='green' )\n",
    "    return hv.Overlay(rms_contours) * rms_label\n",
    "\n",
    "\n",
    "def taylor_diagram(df: pd.DataFrame,\n",
    "                   norm: bool = True, \n",
    "                   marker: str = \"circle\", \n",
    "                   color: str = \"black\", \n",
    "                   label: str = \"Taylor Diagram\"\n",
    "    ) -> hv.Overlay:\n",
    "    theta = np.arccos(df['cr'])  # Convert Cr to radians for polar plot\n",
    "    if norm: \n",
    "        std_ref = 1\n",
    "        std_mod = df['std_mod'] / df['std_obs']\n",
    "    else: \n",
    "        if len(df) > 1:\n",
    "            raise ValueError('for not normalised Taylor diagrams, you need only 1 data point')\n",
    "        std_ref = df['std_obs'].mean()\n",
    "        std_mod = df['std_mod'].mean()\n",
    "    # \n",
    "    std_range = np.arange(0, 1.5 * std_ref, np.round(std_ref/5, 2))\n",
    "    corr_range = np.arange(0, 1, 0.1)\n",
    "    rms_range = np.arange(0, 1.5 * std_ref, np.round(std_ref/5, 2))\n",
    "\n",
    "    std_dev_overlay = create_std_dev_circles(std_range) * create_std_ref(std_ref)\n",
    "    corr_lines_overlay = create_corr_lines(corr_range, std_range.max())\n",
    "    rms_contours_overlay = create_rms_contours(std_ref, std_range.max(), rms_range, norm=norm)\n",
    "\n",
    "    x = std_mod * np.cos(theta)\n",
    "    y = std_mod * np.sin(theta)\n",
    "    df['x'] = x\n",
    "    df['y'] = y\n",
    "    df['rms_perc'] = df['rms'] / df['std_obs']\n",
    "    # hover parameters\n",
    "    tooltips = [\n",
    "        ('Corr Coef (%)', '@cr'),\n",
    "        ('RMS (m)', '@rms'),\n",
    "        ('RMS Taylor (m)', '@rms_taylor'),\n",
    "        ('Std Dev Model (m)', '@std_mod'),\n",
    "        ('Std Dev Measure (m)', '@std_obs'),\n",
    "        ('Station (m)', '@ioc_code'),\n",
    "    ]\n",
    "    if norm: \n",
    "        tooltips.append(('RMS %', '@rms_perc'))\n",
    "    hover = HoverTool(tooltips=tooltips)\n",
    "\n",
    "    # Scatter plot for models with hover tool\n",
    "    scatter_plot = hv.Points(\n",
    "        df, ['x', 'y'],['cr', 'std_mod', 'std_obs', 'rms', 'rms_taylor', 'rms_perc', 'ioc_code'],\n",
    "    ).opts(\n",
    "        color=color,\n",
    "        cmap='Category20',\n",
    "        line_color='ioc_code',  \n",
    "        line_width=1,\n",
    "        marker = marker,\n",
    "        size=10,  \n",
    "        tools=[hover],\n",
    "        default_tools=[],\n",
    "        show_legend=True,\n",
    "        hover_fill_color='firebrick',\n",
    "        xlim=(0, std_range.max()*1.05),\n",
    "        ylim=(0, std_range.max()*1.05)\n",
    "    )\n",
    "\n",
    "    # Combine all the elements\n",
    "    taylor_diagram = scatter_plot * std_dev_overlay * corr_lines_overlay * rms_contours_overlay\n",
    "    return taylor_diagram.opts(default_tools=[])\n"
   ]
  },
  {
   "cell_type": "code",
   "execution_count": null,
   "metadata": {},
   "outputs": [],
   "source": [
    "# Sample usage\n",
    "data =  {'ioc_code': 'wood', 'rms': 0.09, 'rms_taylor': 0.055, 'std_mod': 0.096, 'std_obs': 0.113, 'cr': 0.873}\n",
    "df = pd.DataFrame([data])\n",
    "\n",
    "diagram = taylor_diagram(df, norm=False)\n",
    "diagram.opts(width=800, height=800, show_legend = True)"
   ]
  },
  {
   "cell_type": "markdown",
   "metadata": {},
   "source": [
    "what if we normalise the values?"
   ]
  },
  {
   "cell_type": "code",
   "execution_count": null,
   "metadata": {},
   "outputs": [],
   "source": [
    "diagram = taylor_diagram(df, norm=True)\n",
    "diagram.opts(width=800, height=800)"
   ]
  },
  {
   "cell_type": "markdown",
   "metadata": {},
   "source": [
    "for more data points"
   ]
  },
  {
   "cell_type": "code",
   "execution_count": null,
   "metadata": {},
   "outputs": [],
   "source": [
    "df = pd.read_csv('stats_surge_v0.csv', index_col=0)\n",
    "df.head()"
   ]
  },
  {
   "cell_type": "code",
   "execution_count": null,
   "metadata": {},
   "outputs": [],
   "source": [
    "diagram = taylor_diagram(df, norm=True, marker=\"circle\")\n",
    "diagram.opts(width=800, height=800, show_legend=False)"
   ]
  },
  {
   "cell_type": "markdown",
   "metadata": {},
   "source": [
    "if we don't normalise it"
   ]
  },
  {
   "cell_type": "code",
   "execution_count": null,
   "metadata": {},
   "outputs": [],
   "source": [
    "diagram = taylor_diagram(df, norm=False)\n",
    "diagram.opts(width=800, height=800, legend_muted = False) # will throw an error"
   ]
  },
  {
   "cell_type": "markdown",
   "metadata": {},
   "source": [
    "compare with v0"
   ]
  },
  {
   "cell_type": "code",
   "execution_count": null,
   "metadata": {},
   "outputs": [],
   "source": [
    "df = pd.read_csv('stats_surge_v0p2.csv', index_col=0)\n",
    "\n",
    "diagram_v0 = taylor_diagram(df, norm=True, color=\"red\")\n",
    "plot = (diagram_v0 * diagram).opts(show_legend=True)\n",
    "plot.opts(width=1000, height=1000).opts(\n",
    "    opts.Overlay(legend_position='bottom_right', title='red : v0.2, black : v0'),\n",
    ")"
   ]
  },
  {
   "cell_type": "markdown",
   "metadata": {},
   "source": [
    "we can easily see that the RMS skill of `v0p2` is better than that of `v0`"
   ]
  }
 ],
 "metadata": {
  "kernelspec": {
   "display_name": ".venv",
   "language": "python",
   "name": "python3"
  },
  "language_info": {
   "codemirror_mode": {
    "name": "ipython",
    "version": 3
   },
   "file_extension": ".py",
   "mimetype": "text/x-python",
   "name": "python",
   "nbconvert_exporter": "python",
   "pygments_lexer": "ipython3",
   "version": "3.11.6"
  }
 },
 "nbformat": 4,
 "nbformat_minor": 2
}
