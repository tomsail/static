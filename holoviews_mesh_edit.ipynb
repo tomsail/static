{
 "cells": [
  {
   "cell_type": "markdown",
   "metadata": {},
   "source": [
    "## Imports"
   ]
  },
  {
   "cell_type": "code",
   "execution_count": null,
   "metadata": {
    "tags": [
     "hide-input"
    ]
   },
   "outputs": [],
   "source": [
    "import json\n",
    "import panel as pn\n",
    "import numpy as np\n",
    "import pandas as pd\n",
    "import holoviews as hv\n",
    "from holoviews import opts, streams\n",
    "from holoviews.plotting.links import DataLink\n",
    "import shapely \n",
    "import geoviews as gv\n",
    "import hvplot.pandas\n",
    "import pyposeidon.mesh as pmesh\n",
    "import seareport_data\n",
    "import matplotlib.pyplot as plt\n",
    "\n",
    "hv.extension('bokeh')"
   ]
  },
  {
   "cell_type": "markdown",
   "metadata": {},
   "source": [
    "# functions"
   ]
  },
  {
   "cell_type": "markdown",
   "metadata": {},
   "source": [
    "## Utility functions\n"
   ]
  },
  {
   "cell_type": "code",
   "execution_count": 2,
   "metadata": {
    "jupyter": {
     "source_hidden": true
    },
    "tags": [
     "hide-input"
    ]
   },
   "outputs": [],
   "source": [
    "def extract_area(x, y, triangles, lon_range, lat_range):\n",
    "    mask = (x >= lon_range[0]) & (x <= lon_range[1]) & \\\n",
    "           (y >= lat_range[0]) & (y <= lat_range[1])\n",
    "    node_indices = np.where(mask)[0]\n",
    "    node_map = {old: new for new, old in enumerate(node_indices)}\n",
    "    node_map_reverse = {new: old for new, old in enumerate(node_indices)}\n",
    "    extracted_x = x[node_indices]\n",
    "    extracted_y = y[node_indices]\n",
    "    triangle_indices = np.array([idx for idx, tri in enumerate(triangles) if all(i in node_map for i in tri)])\n",
    "    extracted_triangles = triangles[triangle_indices]\n",
    "    extracted_triangles = np.array([[node_map[i] for i in tri] for tri in extracted_triangles])\n",
    "    \n",
    "    return extracted_x, extracted_y, extracted_triangles, node_indices, triangle_indices, node_map_reverse\n",
    "\n",
    "def is_ccw(tris, meshx, meshy):\n",
    "    x1, x2, x3 = meshx[tris].T\n",
    "    y1, y2, y3 = meshy[tris].T\n",
    "    return (y3 - y1) * (x2 - x1) > (y2 - y1) * (x3 - x1)\n",
    "\n",
    "def is_overlapping(tris, meshx):\n",
    "    PIR = 180\n",
    "    x1, x2, x3 = meshx[tris].T\n",
    "    return np.logical_or(abs(x2 - x1) > PIR, abs(x3 - x1) > PIR, abs(x3 - x3) > PIR)"
   ]
  },
  {
   "cell_type": "markdown",
   "metadata": {},
   "source": [
    "## Panel dashboard function"
   ]
  },
  {
   "cell_type": "code",
   "execution_count": 3,
   "metadata": {
    "jupyter": {
     "source_hidden": true
    }
   },
   "outputs": [],
   "source": [
    "def extract_and_plot_mesh_elements(mesh, element_indices, xbuffer=0.1, ybuffer=0.1):\n",
    "    \"\"\"\n",
    "    Extract nodes and triangles around specific elements of the mesh and create an interactive dashboard for editing.\n",
    "\n",
    "    Args:\n",
    "        mesh: The mesh object (e.g., from pmesh).\n",
    "        element_indices: List of indices of the elements to focus on.\n",
    "        buffer: Buffer size around the elements (default: 0.1).\n",
    "\n",
    "    Returns:\n",
    "        A tuple containing:\n",
    "        - The panel layout for interactive editing.\n",
    "        - The extracted node indices.\n",
    "        - The extracted triangle indices.\n",
    "        - The node mapping dictionary.\n",
    "        - tre extracted triangles connectivity\n",
    "    \"\"\"\n",
    "    # Extract mesh data\n",
    "    x = mesh.Dataset.SCHISM_hgrid_node_x.values\n",
    "    y = mesh.Dataset.SCHISM_hgrid_node_y.values\n",
    "    tri3 = mesh.Dataset.SCHISM_hgrid_face_nodes.values\n",
    "\n",
    "    # Get the bounding box around the elements\n",
    "    element_nodes = tri3[element_indices].flatten()\n",
    "    x_min, x_max = x[element_nodes].min() - xbuffer, x[element_nodes].max() + xbuffer\n",
    "    y_min, y_max = y[element_nodes].min() - ybuffer, y[element_nodes].max() + ybuffer\n",
    "\n",
    "    # get coastlines close the area of interest\n",
    "    area_interest = shapely.box(x_min, y_min, x_max, y_max)\n",
    "    coasts = seareport_data.gshhg_df('f', '6')\n",
    "    mask = coasts.intersects(area_interest)\n",
    "    local_coast = coasts[mask]\n",
    "    llo, lla, tri_sub, node_indices, tri_indices, node_mapping = extract_area(x, y, tri3, (x_min, x_max), (y_min, y_max))\n",
    "\n",
    "    points = hv.Points((llo, lla, node_indices), vdims=['original_index'])\n",
    "\n",
    "    point_stream = streams.PointDraw(data=points.columns(), source=points, num_objects=len(llo), empty_value='black')\n",
    "    def update_trimesh(data): return hv.TriMesh((tri_sub, data))\n",
    "\n",
    "    trimesh_dmap = hv.DynamicMap(update_trimesh, streams=[point_stream])\n",
    "    table = hv.Table(points)\n",
    "\n",
    "    DataLink(points, table)\n",
    "\n",
    "    def update_data(event):\n",
    "        if isinstance(event, pd.DataFrame):  # Table edit event\n",
    "            points.data = event\n",
    "        else:  # PointDraw event\n",
    "            updated_data = pd.DataFrame(point_stream.data)\n",
    "            points.data = updated_data\n",
    "            table.data = updated_data\n",
    "\n",
    "    point_stream.param.watch(update_data, 'data')\n",
    "\n",
    "    # Combine the plot and table\n",
    "    if mask.sum()>=1: \n",
    "        coastlines = local_coast.hvplot().options(xlim=(x_min, x_max), ylim=(y_min, y_max)).opts(alpha=0.6)\n",
    "        layout = ((coastlines * trimesh_dmap * points).opts(width=1200, height=800) + table).opts(\n",
    "            opts.Layout(merge_tools=False),\n",
    "            opts.Points(active_tools=['point_draw'], alpha=0.6, color='red', size=20, tools=['hover']),\n",
    "            opts.TriMesh(edge_color='black'),\n",
    "            opts.Table(editable=True)\n",
    "            )\n",
    "    else:\n",
    "        layout = ((trimesh_dmap * points).opts(width=1200, height=800) + table).opts(\n",
    "            opts.Layout(merge_tools=False),\n",
    "            opts.Points(active_tools=['point_draw'], alpha=0.6, color='red', size=20, tools=['hover']),\n",
    "            opts.TriMesh(edge_color='black'),\n",
    "            opts.Table(editable=True)\n",
    "        )\n",
    "\n",
    "    # Return the layout and extracted data\n",
    "    return pn.panel(layout), node_indices, tri_indices, node_mapping, tri_sub, points"
   ]
  },
  {
   "cell_type": "markdown",
   "metadata": {},
   "source": [
    "## function for updating mesh based on the panel edits"
   ]
  },
  {
   "cell_type": "code",
   "execution_count": 4,
   "metadata": {},
   "outputs": [],
   "source": [
    "def update_mesh_with_interactions(mesh, points_data, tri_sub, tri_indices, node_mapping):\n",
    "    \"\"\"\n",
    "    Update the mesh with the interactions/edits done in the panel dashboard.\n",
    "\n",
    "    Args:\n",
    "        mesh: The mesh object (e.g., from pmesh).\n",
    "        points_data: The updated points data from the dashboard.\n",
    "        tri_sub: extracted triangles\n",
    "        tri_indices: The original indices of the extracted triangles.\n",
    "        node_mapping: The node mapping dictionary.\n",
    "    Returns:\n",
    "        A tuple containing:\n",
    "        - The updated mesh object\n",
    "        - the indice of the flipped triangles\n",
    "        - the original nodes\n",
    "        - the modified nodes\n",
    "    \"\"\"\n",
    "    # Function to flip triangles with incorrect orientation\n",
    "    def flip_triangles(triangles, is_ccw_mask):\n",
    "        flipped_triangles = triangles.copy()\n",
    "        flipped_triangles[~is_ccw_mask] = np.flip(flipped_triangles[~is_ccw_mask], axis=1)\n",
    "        return flipped_triangles\n",
    "\n",
    "    # Extract mesh data\n",
    "    x = mesh.Dataset.SCHISM_hgrid_node_x\n",
    "    y = mesh.Dataset.SCHISM_hgrid_node_y\n",
    "    tri3 = mesh.Dataset.SCHISM_hgrid_face_nodes\n",
    "\n",
    "    # Get modified node coordinates\n",
    "    modified_nodes = points_data.iloc[:, :2].values\n",
    "    original_indices = points_data['original_index'].values\n",
    "    original_nodes = np.vstack((x[original_indices],y[original_indices])).T\n",
    "\n",
    "    # Update node coordinates in the mesh\n",
    "    x[original_indices] = modified_nodes[:, 0]\n",
    "    y[original_indices] = modified_nodes[:, 1]\n",
    "\n",
    "    # Check triangle orientation and flip if necessary\n",
    "    is_ccw_mask = is_ccw(tri_sub, modified_nodes[:, 0], modified_nodes[:, 1])\n",
    "    tri_sub_flipped_local = flip_triangles(tri_sub, is_ccw_mask)\n",
    "    tri_sub_flipped_global = np.array([[node_mapping[i] for i in tri] for tri in tri_sub_flipped_local])\n",
    "    flipped_triangle_indices = tri_indices[~is_ccw_mask]\n",
    "\n",
    "    # Update triangles in the mesh\n",
    "    tri3[flipped_triangle_indices] = tri_sub_flipped_global[~is_ccw_mask]\n",
    "\n",
    "    # Save the updated mesh\n",
    "    mesh.Dataset[\"SCHISM_hgrid_node_x\"] = x\n",
    "    mesh.Dataset[\"SCHISM_hgrid_node_y\"] = y\n",
    "    mesh.Dataset[\"SCHISM_hgrid_face_nodes\"] = tri3\n",
    "    return mesh, flipped_triangle_indices, original_nodes, modified_nodes"
   ]
  },
  {
   "cell_type": "markdown",
   "metadata": {},
   "source": [
    "## JSON functions"
   ]
  },
  {
   "cell_type": "code",
   "execution_count": 5,
   "metadata": {},
   "outputs": [],
   "source": [
    "# Record transformations in a JSON file\n",
    "def save_transformations(original_nodes, modified_nodes, node_indices, flipped_triangle_indices, filename):\n",
    "    transformations = {\n",
    "        \"node_transformations\": [\n",
    "            {\"original_index\": int(node_indices[i]), \"original_coords\": [float(original_nodes[i, 0]), float(original_nodes[i, 1])],\n",
    "             \"modified_coords\": [float(modified_nodes[i, 0]), float(modified_nodes[i, 1])]}\n",
    "            for i in range(len(node_indices)) if (modified_nodes[i, 0] != original_nodes[i, 0]) and (modified_nodes[i, 1] != original_nodes[i, 1])\n",
    "        ],\n",
    "        \"flipped_triangles\": [int(idx) for idx in flipped_triangle_indices]\n",
    "    }\n",
    "    with open(filename, 'w') as f:\n",
    "        json.dump(transformations, f, indent=4)\n",
    "\n",
    "# reproduce transformation\n",
    "def apply_transformations(mesh, transformations_file):\n",
    "    \"\"\"\n",
    "    Apply transformations (node movements and triangle flips) to a mesh based on a JSON file.\n",
    "\n",
    "    Args:\n",
    "        mesh: The mesh object (e.g., from pmesh).\n",
    "        transformations_file (str): Path to the JSON file containing transformations.\n",
    "\n",
    "    Returns:\n",
    "        The modified mesh object.\n",
    "    \"\"\"\n",
    "    # Load transformations from the JSON file\n",
    "    with open(transformations_file, 'r') as f:\n",
    "        transformations = json.load(f)\n",
    "\n",
    "    # Extract node transformations\n",
    "    node_transformations = transformations[\"node_transformations\"]\n",
    "    for transform in node_transformations:\n",
    "        original_index = transform[\"original_index\"]\n",
    "        modified_coords = transform[\"modified_coords\"]\n",
    "        # Update node coordinates in the mesh\n",
    "        mesh.Dataset.SCHISM_hgrid_node_x[original_index] = modified_coords[0]\n",
    "        mesh.Dataset.SCHISM_hgrid_node_y[original_index] = modified_coords[1]\n",
    "\n",
    "    # Extract flipped triangles\n",
    "    flipped_triangles = transformations[\"flipped_triangles\"]\n",
    "    if flipped_triangles:\n",
    "        # Flip the specified triangles\n",
    "        tri3 = mesh.Dataset.SCHISM_hgrid_face_nodes.values\n",
    "        for idx in flipped_triangles:\n",
    "            tri3[idx] = np.flip(tri3[idx])\n",
    "        mesh.Dataset.SCHISM_hgrid_face_nodes = tri3\n",
    "\n",
    "    return mesh"
   ]
  },
  {
   "cell_type": "markdown",
   "metadata": {},
   "source": [
    "#  Edit Mesh\n",
    "## Context\n",
    "\n",
    "We have mesh genreated with oceanmesh that has the following attributes: \n",
    "\n",
    "```\n",
    "uniform.gr3\n",
    "15312900 7990779\n",
    "\n",
    "```\n",
    "\n",
    "when launching the SCHISM preprocessing, we have a problem with the following elements: \n",
    "```\n",
    "4223682\n",
    "```"
   ]
  },
  {
   "cell_type": "code",
   "execution_count": null,
   "metadata": {},
   "outputs": [],
   "source": [
    "mesh = pmesh.set(type='tri2d', mesh_file = \"v3.2/GSHHS_f_0.01.gr3\")"
   ]
  },
  {
   "cell_type": "markdown",
   "metadata": {},
   "source": [
    "## Load the dashboard and edit the mesh "
   ]
  },
  {
   "cell_type": "code",
   "execution_count": null,
   "metadata": {},
   "outputs": [],
   "source": [
    "element_indices = [4223682] \n",
    "layout, node_indices, tri_indices, node_mapping, tri_sub, points = extract_and_plot_mesh_elements(mesh, element_indices, xbuffer=0.5, ybuffer=0.1)\n",
    "layout.servable()"
   ]
  },
  {
   "cell_type": "markdown",
   "metadata": {},
   "source": [
    "## update the mesh with interaction entered in the dashboard"
   ]
  },
  {
   "cell_type": "code",
   "execution_count": 41,
   "metadata": {},
   "outputs": [],
   "source": [
    "mesh, flipped_triangle_indices, original_nodes, modified_nodes = update_mesh_with_interactions(mesh, points.data, tri_sub, tri_indices, node_mapping)"
   ]
  },
  {
   "cell_type": "markdown",
   "metadata": {},
   "source": [
    "## save transformation in a JSON file "
   ]
  },
  {
   "cell_type": "code",
   "execution_count": 42,
   "metadata": {},
   "outputs": [],
   "source": [
    "save_transformations(original_nodes, modified_nodes, points.data['original_index'].values, flipped_triangle_indices, \"transformations.json\")"
   ]
  },
  {
   "cell_type": "markdown",
   "metadata": {},
   "source": [
    "### other useful functions"
   ]
  },
  {
   "cell_type": "code",
   "execution_count": null,
   "metadata": {},
   "outputs": [],
   "source": [
    "def find_hanging_nodes(nodes, connectivity):\n",
    "    \"\"\"\n",
    "    Identify hanging nodes in the mesh.\n",
    "    \n",
    "    :param nodes: List of nodes (coordinates).\n",
    "    :param connectivity: List of triangles (indices of nodes).\n",
    "    :return: Set of hanging node indices.\n",
    "    \"\"\"\n",
    "    # Flatten the connectivity list to count occurrences of each node\n",
    "    all_nodes = np.array(connectivity).flatten()\n",
    "    unique, counts = np.unique(all_nodes, return_counts=True)\n",
    "    \n",
    "    # Nodes that appear less than 2 times are considered hanging\n",
    "    hanging_nodes = set(unique[counts < 2])\n",
    "    \n",
    "    return hanging_nodes\n",
    "\n",
    "def suppress_hanging_nodes(nodes, connectivity, hanging_nodes):\n",
    "    \"\"\"\n",
    "    Suppress hanging nodes and reindex the remaining nodes and connectivity.\n",
    "    \n",
    "    :param nodes: List of nodes (coordinates).\n",
    "    :param connectivity: List of triangles (indices of nodes).\n",
    "    :param hanging_nodes: Set of hanging node indices.\n",
    "    :return: New nodes, new connectivity, and a mapping from old to new indices.\n",
    "    \"\"\"\n",
    "    # Create a mapping from old indices to new indices\n",
    "    old_to_new = {}\n",
    "    new_nodes = []\n",
    "    new_index = 0\n",
    "    \n",
    "    # Iterate through nodes and create new list without hanging nodes\n",
    "    for i, node in enumerate(nodes):\n",
    "        if i not in hanging_nodes:\n",
    "            old_to_new[i] = new_index\n",
    "            new_nodes.append(node)\n",
    "            new_index += 1\n",
    "    \n",
    "    # Reindex connectivity\n",
    "    new_connectivity = []\n",
    "    for triangle in connectivity:\n",
    "        new_triangle = [old_to_new[node] for node in triangle if node not in hanging_nodes]\n",
    "        if len(new_triangle) == 3:  # Ensure it's still a valid triangle\n",
    "            new_connectivity.append(new_triangle)\n",
    "    \n",
    "    return new_nodes, new_connectivity, old_to_new\n"
   ]
  }
 ],
 "metadata": {
  "kernelspec": {
   "display_name": "pos_test",
   "language": "python",
   "name": "python3"
  },
  "language_info": {
   "codemirror_mode": {
    "name": "ipython",
    "version": 3
   },
   "file_extension": ".py",
   "mimetype": "text/x-python",
   "name": "python",
   "nbconvert_exporter": "python",
   "pygments_lexer": "ipython3",
   "version": "3.11.8"
  }
 },
 "nbformat": 4,
 "nbformat_minor": 4
}
