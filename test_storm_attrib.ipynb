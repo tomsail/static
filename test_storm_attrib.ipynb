{
 "cells": [
  {
   "cell_type": "code",
   "execution_count": null,
   "id": "587ee212",
   "metadata": {},
   "outputs": [],
   "source": [
    "import pandas as pd\n",
    "from auto_reports._io import assign_storms\n",
    "from auto_reports._io import assign_oceans\n",
    "from auto_reports._io import load_world_oceans\n",
    "import hvplot.pandas\n",
    "import holoviews as hv\n",
    "\n",
    "hv.extension(\"bokeh\")"
   ]
  },
  {
   "cell_type": "code",
   "execution_count": null,
   "id": "4e64cf6c",
   "metadata": {},
   "outputs": [],
   "source": [
    "file = \"data_swl/stats/seareport-v3.2-telemac_eva.parquet\"\n",
    "df_eva = pd.read_parquet(file)\n",
    "df_eva = assign_oceans(df_eva)\n",
    "df_eva"
   ]
  },
  {
   "cell_type": "code",
   "execution_count": null,
   "id": "1a17d52c",
   "metadata": {},
   "outputs": [],
   "source": [
    "regions = load_world_oceans()[\"ocean\"].unique().tolist()\n",
    "plots = []\n",
    "for region in regions: \n",
    "    df = assign_storms(df_eva[df_eva.ocean == region], region)\n",
    "    if not df.empty:\n",
    "        plots.append(\n",
    "            df.hvplot.scatter(\n",
    "                x=\"time observed\", \n",
    "                y=\"observed\",\n",
    "                # c=\"storm\", \n",
    "                hover_cols=[\"storm\"], \n",
    "                # legend = False,\n",
    "                grid=True,\n",
    "                label = region,\n",
    "                s=10,\n",
    "                xlim = (pd.Timestamp(\"2022-01-01\"), pd.Timestamp(\"2024-12-31\"))\n",
    "            )\n",
    "        )\n",
    "\n",
    "hv.Overlay(plots).opts(width=1400, height=600, title=\"recorded surges (without tidal component) over the 22-24 period\")"
   ]
  },
  {
   "cell_type": "code",
   "execution_count": null,
   "id": "1e91f9a4",
   "metadata": {},
   "outputs": [],
   "source": [
    "for region in regions: \n",
    "    df = assign_storms(df_eva[df_eva.ocean == region], region)\n",
    "    if not df.empty:\n",
    "        df.hvplot.scatter(\n",
    "        x=\"time observed\", \n",
    "        y=\"observed\",\n",
    "        c=\"storm\", \n",
    "        hover_cols=[\"storm\"], \n",
    "        legend = False,\n",
    "        grid=True,\n",
    "        title = region,\n",
    "        xlim = (pd.Timestamp(\"2022-01-01\"), pd.Timestamp(\"2024-12-31\"))\n",
    "        ).opts(width=1000, height=400)+df.hvplot.scatter(\n",
    "        x=\"lon\", \n",
    "        y=\"lat\",\n",
    "        c=\"storm\", \n",
    "        tiles=True,\n",
    "        hover_cols=[\"storm\"], \n",
    "        legend = False).opts(width=400, height=400)\n"
   ]
  }
 ],
 "metadata": {
  "kernelspec": {
   "display_name": ".venv (3.12.11)",
   "language": "python",
   "name": "python3"
  },
  "language_info": {
   "codemirror_mode": {
    "name": "ipython",
    "version": 3
   },
   "file_extension": ".py",
   "mimetype": "text/x-python",
   "name": "python",
   "nbconvert_exporter": "python",
   "pygments_lexer": "ipython3",
   "version": "3.12.11"
  }
 },
 "nbformat": 4,
 "nbformat_minor": 5
}
