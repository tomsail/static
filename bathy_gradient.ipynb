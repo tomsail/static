{
 "cells": [
  {
   "cell_type": "markdown",
   "metadata": {},
   "source": [
    "this notebook is ispired from: [Colmenero 2014](http://mseas.mit.edu/publications/Theses/Jorge_Colmenero_BS_Thesis_MIT2014.pdf)"
   ]
  },
  {
   "cell_type": "code",
   "execution_count": null,
   "metadata": {},
   "outputs": [],
   "source": [
    "import os\n",
    "import numpy as np\n",
    "import hvplot.xarray\n",
    "from scipy.ndimage import binary_dilation\n",
    "\n",
    "import seareport_data as S"
   ]
  },
  {
   "cell_type": "code",
   "execution_count": null,
   "metadata": {},
   "outputs": [],
   "source": [
    "ds = S.gebco_ds(\"sub_ice\")\n",
    "ds"
   ]
  },
  {
   "cell_type": "code",
   "execution_count": null,
   "metadata": {},
   "outputs": [],
   "source": [
    "subset = ds.sel(lon=slice(-72,-62), lat=slice(40, 46))\n",
    "subset.elevation.shape\n",
    "subset.elevation.hvplot.image(cmap=\"cet_CET_R4\").opts(width = 600, height=500)"
   ]
  },
  {
   "cell_type": "code",
   "execution_count": null,
   "metadata": {},
   "outputs": [],
   "source": [
    "import tqdm \n",
    "def _earth_gradient(F, dx, dy):\n",
    "    \"\"\"\n",
    "    earth_gradient(F,HX,HY), where F is 2-D, uses the spacing\n",
    "    specified by HX and HY. HX and HY can either be scalars to specify\n",
    "    the spacing between coordinates or vectors to specify the\n",
    "    coordinates of the points.  If HX and HY are vectors, their length\n",
    "    must match the corresponding dimension of F.\n",
    "    \"\"\"\n",
    "    Fy, Fx = np.zeros(F.shape), np.zeros(F.shape)\n",
    "\n",
    "    # Forward diferences on edges\n",
    "    Fx[:, 0] = (F[:, 1] - F[:, 0]) / dx\n",
    "    Fx[:, -1] = (F[:, -1] - F[:, -2]) / dx\n",
    "    Fy[0, :] = (F[1, :] - F[0, :]) / dy\n",
    "    Fy[-1, :] = (F[-1, :] - F[-2, :]) / dy\n",
    "\n",
    "    # Central Differences on interior\n",
    "    Fx[:, 1:-1] = (F[:, 2:] - F[:, :-2]) / (2 * dx)\n",
    "    Fy[1:-1, :] = (F[2:, :] - F[:-2, :]) / (2 * dy)\n",
    "\n",
    "    return Fy, Fx\n",
    "\n",
    "\n",
    "def calc_gradient(ds):\n",
    "    elevation = ds.elevation.values\n",
    "    lon = ds.lon.values\n",
    "    lat = ds.lat.values\n",
    "\n",
    "    dx = np.diff(lon)[0]\n",
    "    dy = np.diff(lat)[0]\n",
    "\n",
    "    mean_latitude = np.mean(lat)\n",
    "    meters_per_degree = (\n",
    "            111132.92\n",
    "            - 559.82 * np.cos(2 * mean_latitude)\n",
    "            + 1.175 * np.cos(4 * mean_latitude)\n",
    "            - 0.0023 * np.cos(6 * mean_latitude)\n",
    "        )\n",
    "    dy *= meters_per_degree\n",
    "    dx *= meters_per_degree\n",
    "    Fy, Fx = _earth_gradient(elevation, dx, dy)\n",
    "\n",
    "    grad_magnitude = np.sqrt(Fy**2 + Fx**2) * meters_per_degree\n",
    "    grad_direction = np.arctan2(Fy, Fx) * 180 / np.pi\n",
    "\n",
    "    return grad_magnitude, grad_direction\n",
    "\n",
    "def grad_smoothing(grad, threshold = 50, iterations = 100, ):\n",
    "    def ingrid_smooth(g):\n",
    "        return 1/4 * g + \\\n",
    "               1/8 * (np.roll(g, 1, axis=0) + np.roll(g, -1, axis=0) + np.roll(g, 1, axis=1) + np.roll(g, -1, axis=1)) + \\\n",
    "               1/16 * (np.roll(np.roll(g, 1, axis=0), 1, axis=1) + np.roll(np.roll(g, 1, axis=0), -1, axis=1) + \\\n",
    "                       np.roll(np.roll(g, -1, axis=0), -1, axis=1) + np.roll(np.roll(g, -1, axis=0), 1, axis=1))\n",
    "    def left_edge_smooth(g):\n",
    "        return 3/8 * g + \\\n",
    "               1/8 * (np.roll(g, 1, axis=0) + np.roll(np.roll(g, 1, axis=0), 1, axis=1) + np.roll(np.roll(g, 1, axis=0), -1, axis=1) + \\\n",
    "                       np.roll(g, 1, axis=1) + np.roll(g, -1, axis=1))\n",
    "\n",
    "    def right_edge_smooth(g):\n",
    "        return 3/8 * g + \\\n",
    "               1/8 * (np.roll(g, -1, axis=0) + np.roll(np.roll(g, -1, axis=0), 1, axis=1) + np.roll(np.roll(g, -1, axis=0), -1, axis=1) + \\\n",
    "                       np.roll(g, 1, axis=1) + np.roll(g, -1, axis=1))\n",
    "\n",
    "    def top_edge_smooth(g):\n",
    "        return 3/8 * g + \\\n",
    "               1/8 * (np.roll(g, -1, axis=0) + np.roll(np.roll(g, -1, axis=0), 1, axis=1) + np.roll(np.roll(g, -1, axis=0), -1, axis=1) + \\\n",
    "                       np.roll(g, 1, axis=1) + np.roll(g, -1, axis=1))\n",
    "\n",
    "    def bottom_edge_smooth(g):\n",
    "        return 3/8 * g + \\\n",
    "               1/8 * (np.roll(g, 1, axis=0) + np.roll(g, -1, axis=0) + np.roll(np.roll(g, 1, axis=0), -1, axis=1) + \\\n",
    "                       np.roll(np.roll(g, -1, axis=0), -1, axis=1) + np.roll(g, -1, axis=1))\n",
    "\n",
    "    def upper_left_corner_smooth(g):\n",
    "        return 1/3 * g + \\\n",
    "               2/9 * (np.roll(g, 1, axis=0) + np.roll(np.roll(g, 1, axis=0), 1, axis=1) + np.roll(g, 1, axis=1))\n",
    "\n",
    "    def upper_right_corner_smooth(g):\n",
    "        return 1/3 * g + \\\n",
    "               2/9 * (np.roll(g, 1, axis=0) + np.roll(np.roll(g, 1, axis=0), -1, axis=1) + np.roll(g, -1, axis=1))\n",
    "\n",
    "    def lower_left_corner_smooth(g):\n",
    "        return 1/3 * g + \\\n",
    "               2/9 * (np.roll(g, -1, axis=0) + np.roll(np.roll(g, -1, axis=0), 1, axis=1) + np.roll(g, 1, axis=1))\n",
    "\n",
    "    def lower_right_corner_smooth(g):\n",
    "        return 1/3 * g + \\\n",
    "               2/9 * (np.roll(g, -1, axis=0) + np.roll(np.roll(g, -1, axis=0), -1, axis=1) + np.roll(g, -1, axis=1))\n",
    "\n",
    "    smoothed = grad.copy()\n",
    "\n",
    "    # Create masks for different regions\n",
    "    in_grid_mask = np.zeros_like(grad, dtype=bool)\n",
    "    left_edge_mask = np.zeros_like(grad, dtype=bool)\n",
    "    right_edge_mask = np.zeros_like(grad, dtype=bool)\n",
    "    top_edge_mask = np.zeros_like(grad, dtype=bool)\n",
    "    bottom_edge_mask = np.zeros_like(grad, dtype=bool)\n",
    "    upper_left_corner_mask = np.zeros_like(grad, dtype=bool)\n",
    "    upper_right_corner_mask = np.zeros_like(grad, dtype=bool)\n",
    "    lower_left_corner_mask = np.zeros_like(grad, dtype=bool)\n",
    "    lower_right_corner_mask = np.zeros_like(grad, dtype=bool)\n",
    "\n",
    "    # Fill the masks\n",
    "    in_grid_mask[1:-1, 1:-1] = True\n",
    "    left_edge_mask[0, 1:-1] = True\n",
    "    right_edge_mask[-1, 1:-1] = True\n",
    "    top_edge_mask[1:-1, 0] = True\n",
    "    bottom_edge_mask[1:-1, -1] = True\n",
    "    upper_left_corner_mask[0, 0] = True\n",
    "    upper_right_corner_mask[0, -1] = True\n",
    "    lower_left_corner_mask[-1, 0] = True\n",
    "    lower_right_corner_mask[-1, -1] = True\n",
    "\n",
    "    # Apply threshold\n",
    "    for it in tqdm.tqdm(range(iterations)):\n",
    "        \n",
    "        threshold_mask = smoothed > threshold if threshold > 0 else smoothed < threshold\n",
    "        threshold_mask = binary_dilation(threshold_mask, iterations=1)\n",
    "\n",
    "        # Combine masks with threshold\n",
    "        in_grid_mask &= threshold_mask\n",
    "        left_edge_mask &= threshold_mask\n",
    "        right_edge_mask &= threshold_mask\n",
    "        top_edge_mask &= threshold_mask\n",
    "        bottom_edge_mask &= threshold_mask\n",
    "        upper_left_corner_mask &= threshold_mask\n",
    "        upper_right_corner_mask &= threshold_mask\n",
    "        lower_left_corner_mask &= threshold_mask\n",
    "        lower_right_corner_mask &= threshold_mask\n",
    "\n",
    "        # Iterate over each node in the elevation data\n",
    "        smoothed[in_grid_mask] = ingrid_smooth(smoothed)[in_grid_mask]\n",
    "        smoothed[left_edge_mask] = left_edge_smooth(smoothed)[left_edge_mask]\n",
    "        smoothed[right_edge_mask] = right_edge_smooth(smoothed)[right_edge_mask]\n",
    "        smoothed[top_edge_mask] = top_edge_smooth(smoothed)[top_edge_mask]\n",
    "        smoothed[bottom_edge_mask] = bottom_edge_smooth(smoothed)[bottom_edge_mask]\n",
    "        smoothed[upper_left_corner_mask] = upper_left_corner_smooth(smoothed)[upper_left_corner_mask]\n",
    "        smoothed[upper_right_corner_mask] = upper_right_corner_smooth(smoothed)[upper_right_corner_mask]\n",
    "        smoothed[lower_left_corner_mask] = lower_left_corner_smooth(smoothed)[lower_left_corner_mask]\n",
    "        smoothed[lower_right_corner_mask] = lower_right_corner_smooth(smoothed)[lower_right_corner_mask]\n",
    "    \n",
    "    threshold_mask = smoothed > threshold if threshold > 0 else smoothed < threshold\n",
    "    smoothed[threshold_mask]=threshold\n",
    "    return smoothed\n",
    "\n",
    "def laplacian_smothing(grad, threshold=50, iterations=100):\n",
    "    smoothed = grad.copy()\n",
    "    def laplacian_smooth(g, threshold):\n",
    "        grad_x = np.gradient(g, axis=1)\n",
    "        grad_y = np.gradient(g, axis=0)\n",
    "        grad_magnitude = np.sqrt(grad_x**2 + grad_y**2)\n",
    "        if threshold >0:\n",
    "            scale_factor = np.where(g > threshold, threshold / grad_magnitude, 1.0)\n",
    "        else: \n",
    "            scale_factor = np.where(g < threshold, threshold / grad_magnitude, 1.0)\n",
    "        grad_x_rescaled = grad_x * scale_factor\n",
    "        grad_y_rescaled = grad_y * scale_factor\n",
    "\n",
    "        laplacian = (\n",
    "            np.gradient(grad_x_rescaled, axis=1) + np.gradient(grad_y_rescaled, axis=0)\n",
    "        )\n",
    "        return g + laplacian\n",
    "\n",
    "    for iteration in tqdm.tqdm(range(iterations)):\n",
    "        smoothed = laplacian_smooth(smoothed, threshold)\n",
    "        \n",
    "    if threshold > 0: \n",
    "        threshold_mask = smoothed > threshold \n",
    "        smoothed[threshold_mask]=threshold\n",
    "        zero_mask = smoothed < 0 \n",
    "        smoothed[zero_mask] = 0\n",
    "    else: \n",
    "        threshold_mask = smoothed < threshold \n",
    "        smoothed[threshold_mask]=threshold\n",
    "        zero_mask = smoothed > 0 \n",
    "        smoothed[zero_mask] =  0\n",
    "    return smoothed"
   ]
  },
  {
   "cell_type": "code",
   "execution_count": null,
   "metadata": {},
   "outputs": [],
   "source": [
    "grad, dir = calc_gradient(subset)\n",
    "\n",
    "subset[\"grad\"] = ((\"lat\", \"lon\"), grad)\n",
    "subset[\"dir\"] = ((\"lat\", \"lon\"), dir)\n",
    "subset"
   ]
  },
  {
   "cell_type": "code",
   "execution_count": null,
   "metadata": {},
   "outputs": [],
   "source": [
    "gmax = 10000\n",
    "smoothed =  grad_smoothing(subset.grad.data, gmax, iterations = 10)\n",
    "\n",
    "subset[\"smoothed\"] = ((\"lat\", \"lon\"), smoothed)\n",
    "subset.smoothed.hvplot.image(cmap=\"cet_CET_R4\").opts(width=600, height=500,clim = (0, gmax))\n",
    "subset.smoothed.hvplot.hist()"
   ]
  },
  {
   "cell_type": "code",
   "execution_count": null,
   "metadata": {},
   "outputs": [],
   "source": [
    "gmax = 10000\n",
    "smoothed =  laplacian_smothing(subset.grad.data, gmax, iterations = 3)\n",
    "\n",
    "subset[\"smoothed\"] = ((\"lat\", \"lon\"), smoothed)\n",
    "subset.smoothed.hvplot.image(cmap=\"cet_CET_R4\").opts(width=600, height=500,clim = (0, gmax))\n",
    "subset.smoothed.hvplot.hist()"
   ]
  },
  {
   "cell_type": "markdown",
   "metadata": {},
   "source": [
    "reduced gradient adaptation"
   ]
  },
  {
   "cell_type": "code",
   "execution_count": null,
   "metadata": {},
   "outputs": [],
   "source": [
    "elevation = subset.elevation.data\n",
    "elevation[elevation > -10 ]= -10\n",
    "grad, dir = calc_gradient(subset)\n",
    "\n",
    "subset[\"reduced_grad\"] = ((\"lat\", \"lon\"), grad/elevation)"
   ]
  },
  {
   "cell_type": "code",
   "execution_count": null,
   "metadata": {},
   "outputs": [],
   "source": [
    "rgmax = -20\n",
    "rg_smoothed =  grad_smoothing(subset.reduced_grad.data, rgmax, iterations = 20)\n",
    "\n",
    "subset[\"reduced_grad_smooth\"] = ((\"lat\", \"lon\"), rg_smoothed)\n",
    "subset.reduced_grad_smooth.hvplot.image(cmap=\"cet_CET_R4\").opts(width=600, height=500)\n",
    "subset.reduced_grad_smooth.hvplot.hist()"
   ]
  },
  {
   "cell_type": "code",
   "execution_count": null,
   "metadata": {},
   "outputs": [],
   "source": [
    "rgmax = -20\n",
    "rg_smoothed =  laplacian_smothing(subset.reduced_grad.data, rgmax, iterations = 20)\n",
    "\n",
    "subset[\"reduced_grad_smooth\"] = ((\"lat\", \"lon\"), rg_smoothed)\n",
    "subset.reduced_grad_smooth.hvplot.image(cmap=\"cet_CET_R4\").opts(width=600, height=500)\n",
    "subset.reduced_grad_smooth.hvplot.hist()"
   ]
  },
  {
   "cell_type": "markdown",
   "metadata": {},
   "source": [
    "mesh size contributions"
   ]
  },
  {
   "cell_type": "code",
   "execution_count": null,
   "metadata": {},
   "outputs": [],
   "source": [
    "def h_size_grad(values, min_elem_size, max_elem_size):\n",
    "    return max_elem_size - (values/np.max(values)*(max_elem_size-min_elem_size))\n",
    "def h_size_rgrad(values, min_elem_size, max_elem_size):\n",
    "    return max_elem_size - (values/np.min(values)*(max_elem_size-min_elem_size))\n"
   ]
  },
  {
   "cell_type": "code",
   "execution_count": null,
   "metadata": {},
   "outputs": [],
   "source": [
    "gmax = 10000\n",
    "grad, dir = calc_gradient(subset)\n",
    "smoothed =  grad_smoothing(grad, gmax, iterations = 20)\n",
    "rgmax = -20\n",
    "rg_smoothed =  grad_smoothing(grad/elevation, rgmax, iterations = 20)"
   ]
  },
  {
   "cell_type": "code",
   "execution_count": null,
   "metadata": {},
   "outputs": [],
   "source": [
    "h_grad = h_size_grad(smoothed, 10, 1000)\n",
    "h_rg = h_size_rgrad(rg_smoothed, 10, 1000)\n",
    "\n",
    "h = np.minimum(h_grad, h_rg)\n",
    "subset[\"h\"] = ((\"lat\", \"lon\"), h)\n",
    "# subset.h.hvplot.image(cmap=\"cet_CET_R4\").opts(width=600, height=500)\n",
    "# subset.h.hvplot.hist()"
   ]
  }
 ],
 "metadata": {
  "kernelspec": {
   "display_name": "pos_test",
   "language": "python",
   "name": "python3"
  },
  "language_info": {
   "codemirror_mode": {
    "name": "ipython",
    "version": 3
   },
   "file_extension": ".py",
   "mimetype": "text/x-python",
   "name": "python",
   "nbconvert_exporter": "python",
   "pygments_lexer": "ipython3",
   "version": "3.11.8"
  }
 },
 "nbformat": 4,
 "nbformat_minor": 2
}
