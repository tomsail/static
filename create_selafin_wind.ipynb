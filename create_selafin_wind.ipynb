{
 "cells": [
  {
   "cell_type": "markdown",
   "metadata": {},
   "source": [
    "to have this notebook working correctly, you just need to install  `xarray-selafin`, `numpy` and `pandas`: \n",
    "\n",
    "```\n",
    "pip install xarray-selafin pandas numpy\n",
    "```\n",
    "\n",
    "check how to create Selafins from xarrays also on the wiki at https://github.com/seareport/xarray-selafin/wiki"
   ]
  },
  {
   "cell_type": "code",
   "execution_count": null,
   "metadata": {},
   "outputs": [],
   "source": [
    "import xarray as xr"
   ]
  },
  {
   "cell_type": "code",
   "execution_count": null,
   "metadata": {},
   "outputs": [],
   "source": [
    "HOMETEL = \"/home/tomsail/work/opentelemac/\"\n",
    "file = HOMETEL + \"examples/python3/converter/mesh.slf\""
   ]
  },
  {
   "cell_type": "code",
   "execution_count": null,
   "metadata": {},
   "outputs": [],
   "source": [
    "slf = xr.open_dataset(file, engine='selafin')"
   ]
  },
  {
   "cell_type": "code",
   "execution_count": null,
   "metadata": {},
   "outputs": [],
   "source": [
    "slf"
   ]
  },
  {
   "cell_type": "code",
   "execution_count": null,
   "metadata": {},
   "outputs": [],
   "source": [
    "xmin, xmax = slf.x.values.min(), slf.x.values.max()\n",
    "ymin, ymax = slf.y.values.min(), slf.y.values.max()\n",
    "xmin, xmax, ymin, ymax "
   ]
  },
  {
   "cell_type": "markdown",
   "metadata": {},
   "source": [
    "we can take a 1000m resolution grid that extends accordingly: "
   ]
  },
  {
   "cell_type": "code",
   "execution_count": null,
   "metadata": {},
   "outputs": [],
   "source": [
    "bbox = (0, 20000, -3000, 7000) # xmin xmax ymin ymax"
   ]
  },
  {
   "cell_type": "markdown",
   "metadata": {},
   "source": [
    "let's generate a wind from scratch"
   ]
  },
  {
   "cell_type": "code",
   "execution_count": null,
   "metadata": {},
   "outputs": [],
   "source": [
    "import xarray as xr\n",
    "import numpy as np\n",
    "import pandas as pd\n",
    "from scipy.spatial import Delaunay\n",
    "from xarray_selafin.xarray_backend import SelafinAccessor\n",
    "\n",
    "# Define the mesh grid for the bbox\n",
    "xmin, xmax, ymin, ymax = 0, 20000, -3000, 7000\n",
    "resolution = 1000  # in meters\n",
    "lon = np.arange(xmin, xmax + resolution, resolution)\n",
    "lat = np.arange(ymin, ymax + resolution, resolution)\n",
    "nx1d = len(lon)\n",
    "ny1d = len(lat)\n",
    "xx = np.tile(lon, ny1d).reshape(ny1d, nx1d).T.ravel()\n",
    "yy = np.tile(lat, nx1d)\n",
    "\n",
    "# connectivity\n",
    "ikle = np.zeros((2*(nx1d-1)*(ny1d-1), 3), dtype=np.int64)\n",
    "ielem = 0\n",
    "for i in range(1, nx1d):\n",
    "    for j in range(1, ny1d):\n",
    "        ipoin = (i-1)*ny1d + j - 1\n",
    "        # ~~> first triangle\n",
    "        ikle[ielem][0] = ipoin\n",
    "        ikle[ielem][1] = ipoin + ny1d\n",
    "        ikle[ielem][2] = ipoin + 1\n",
    "        ielem = ielem + 1\n",
    "        # # ~~> second triangle\n",
    "        ikle[ielem][0] = ipoin + ny1d\n",
    "        ikle[ielem][1] = ipoin + ny1d + 1\n",
    "        ikle[ielem][2] = ipoin + 1\n",
    "        ielem = ielem + 1\n",
    "\n",
    "# Boundaries\n",
    "ipob3 = np.zeros(2*(nx1d-1)*(ny1d-1),  dtype=np.int64)\n",
    "# ~~> along the x-axis (lon)\n",
    "for i in range(nx1d):\n",
    "    ipoin = i*ny1d\n",
    "    ipob3[ipoin] = i + 1\n",
    "    ipoin = i*ny1d - 1\n",
    "    ipob3[ipoin] = 2*nx1d+(ny1d-2) - i\n",
    "# ~~> along the y-axis (alt)\n",
    "for i in range(1, ny1d):\n",
    "    ipoin = i\n",
    "    ipob3[ipoin] = 2*nx1d + 2*(ny1d-2) - i + 1\n",
    "    ipoin = ny1d*(nx1d-1) + i\n",
    "    ipob3[ipoin] = nx1d + i\n"
   ]
  },
  {
   "cell_type": "code",
   "execution_count": null,
   "metadata": {},
   "outputs": [],
   "source": [
    "# Define the time range\n",
    "times = pd.date_range(pd.Timestamp(2023, 1, 1), pd.Timestamp(2023, 2, 1), freq=\"1D\")"
   ]
  },
  {
   "cell_type": "code",
   "execution_count": null,
   "metadata": {},
   "outputs": [],
   "source": [
    "# Function to calculate wind components\n",
    "def wind_components(speed, direction):\n",
    "    radian_direction = np.deg2rad(direction)\n",
    "    u = speed * np.sin(radian_direction)  # U component of the wind (east-west)\n",
    "    v = speed * np.cos(radian_direction)  # V component of the wind (north-south)\n",
    "    return u, v"
   ]
  },
  {
   "cell_type": "code",
   "execution_count": null,
   "metadata": {},
   "outputs": [],
   "source": [
    "# Define the initial wind direction and speed\n",
    "initial_wind_direction = 90  # degrees from north, eastward\n",
    "wind_speed = 20  # m/s\n",
    "\n",
    "# Calculate the wind field for each day\n",
    "wind_u = np.zeros((len(times), len(xx)))\n",
    "wind_v = np.zeros((len(times), len(xx)))\n",
    "patm = np.zeros((len(times), len(xx)))\n",
    "tair = np.zeros((len(times), len(xx)))\n",
    "for i, time in enumerate(times):\n",
    "    # Calculate the new wind direction\n",
    "    new_direction = (initial_wind_direction + i * 10) % 360\n",
    "    spacial_variability = np.sort(np.random.normal(1.9, 1.02, len(xx)))\n",
    "    \n",
    "    # Calculate the wind components\n",
    "    u, v = wind_components(wind_speed, new_direction)\n",
    "    \n",
    "    # Set the components for all nodes\n",
    "    wind_u[i, :] = u + 5 * spacial_variability\n",
    "    wind_v[i, :] = v + 5 * spacial_variability\n",
    "    patm[i, :] = 102500 + 100 * spacial_variability\n",
    "    tair[i, :] = 20 + 5 * spacial_variability"
   ]
  },
  {
   "cell_type": "code",
   "execution_count": null,
   "metadata": {},
   "outputs": [],
   "source": [
    "# Create the xarray dataset\n",
    "ds = xr.Dataset(\n",
    "    {\n",
    "        \"WINDX\": ((\"time\", \"node\"), wind_u),\n",
    "        \"WINDY\": ((\"time\", \"node\"), wind_v),\n",
    "        \"PATM\": ((\"time\", \"node\"), patm),\n",
    "        \"TAIR\": ((\"time\", \"node\"), tair),\n",
    "    },\n",
    "    coords={\n",
    "        \"x\": (\"node\", xx), \n",
    "        \"y\": (\"node\", yy), \n",
    "        \"time\": times,\n",
    "    }\n",
    ")"
   ]
  },
  {
   "cell_type": "markdown",
   "metadata": {},
   "source": [
    "plot the wind field to check"
   ]
  },
  {
   "cell_type": "code",
   "execution_count": null,
   "metadata": {},
   "outputs": [],
   "source": [
    "slf.plot.scatter(x=\"x\", y=\"y\",c=slf.FOND,s=4, cmap=\"jet\", edgecolors='none' ,figsize=(20, 10))\n",
    "ds.isel(time=-1).plot.quiver(x=\"x\", y=\"y\", u=\"WINDX\", v=\"WINDX\", hue=\"TAIR\", zorder = -1)"
   ]
  },
  {
   "cell_type": "markdown",
   "metadata": {},
   "source": [
    "Important! (otherwise it won't work)\n",
    "* add connectivity and variables attributes to the dataset"
   ]
  },
  {
   "cell_type": "code",
   "execution_count": null,
   "metadata": {},
   "outputs": [],
   "source": [
    "var_attrs = {\n",
    "    \"WINDX\": (\"WINDX\", \"M/S\"),\n",
    "    \"WINDY\": (\"WINDY\", \"M/S\"),\n",
    "    \"PATM\":  (\"PATM\", \"PASCAL\"),\n",
    "    \"TAIR\":  (\"TAIR\", \"DEGREES C\"),\n",
    "}\n",
    "\n",
    "ds.attrs['ikle2'] = ikle + 1 # convert to 1-based indexing\n",
    "ds.attrs[\"variables\"] = var_attrs"
   ]
  },
  {
   "cell_type": "code",
   "execution_count": null,
   "metadata": {},
   "outputs": [],
   "source": [
    "# Writing to a SELAFIN file\n",
    "ds.selafin.write(\"wind.slf\")"
   ]
  },
  {
   "cell_type": "markdown",
   "metadata": {},
   "source": [
    "ignore the warning about ipobo: we don't need it for this example"
   ]
  },
  {
   "cell_type": "markdown",
   "metadata": {},
   "source": [
    "### Bonus: interactive view with holoviews"
   ]
  },
  {
   "cell_type": "code",
   "execution_count": null,
   "metadata": {},
   "outputs": [],
   "source": [
    "import holoviews as hv\n",
    "hv.extension('bokeh')"
   ]
  },
  {
   "cell_type": "code",
   "execution_count": null,
   "metadata": {},
   "outputs": [],
   "source": [
    "df = slf.isel(time=0).to_dataframe()\n",
    "scatter_plot = hv.Points(\n",
    "        df, ['x', 'y'],['FOND'],\n",
    "    ).opts(\n",
    "        color=\"FOND\",\n",
    "        cmap='jet',\n",
    "        line_width=1,\n",
    "        size=2,  \n",
    "        tools=[\"hover\"],\n",
    "        show_legend=True,\n",
    "        hover_fill_color='firebrick',\n",
    "    )\n",
    "scatter_plot.opts(width=1000, height=600)"
   ]
  }
 ],
 "metadata": {
  "kernelspec": {
   "display_name": "slf",
   "language": "python",
   "name": "python3"
  },
  "language_info": {
   "codemirror_mode": {
    "name": "ipython",
    "version": 3
   },
   "file_extension": ".py",
   "mimetype": "text/x-python",
   "name": "python",
   "nbconvert_exporter": "python",
   "pygments_lexer": "ipython3",
   "version": "3.11.8"
  }
 },
 "nbformat": 4,
 "nbformat_minor": 2
}
