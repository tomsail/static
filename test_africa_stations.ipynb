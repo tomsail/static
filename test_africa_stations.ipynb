{
 "cells": [
  {
   "cell_type": "markdown",
   "id": "a79d3eef",
   "metadata": {},
   "source": [
    "to get this notebook working: \n",
    "\n",
    "```\n",
    "poetry add ipykernel hvplot shapely searvey geoviews utide\n",
    "```"
   ]
  },
  {
   "cell_type": "code",
   "execution_count": null,
   "id": "679739b0",
   "metadata": {},
   "outputs": [],
   "source": [
    "import searvey\n",
    "import shapely\n",
    "import utide\n",
    "import pandas as pd\n",
    "import hvplot.pandas"
   ]
  },
  {
   "cell_type": "code",
   "execution_count": null,
   "id": "26f0f98f",
   "metadata": {},
   "outputs": [],
   "source": [
    "# small function to detide signal (using Utide: https://github.com/wesleybowman/UTide)\n",
    "def surge(ts: pd.Series, lat: float, resample: int = None): \n",
    "    ts0 = ts.copy()\n",
    "    OPTS = {\n",
    "        \"constit\": \"auto\", \n",
    "        \"method\": \"ols\", \n",
    "        \"order_constit\": \"frequency\",\n",
    "        \"Rayleigh_min\": 0.97,\n",
    "        \"lat\": lat,\n",
    "        \"verbose\": True\n",
    "    }\n",
    "    if resample is not None:\n",
    "        ts = ts.resample(f\"{resample}min\").mean()\n",
    "        ts = ts.shift(freq=f\"{resample / 2}min\")\n",
    "        coef = utide.solve(ts.index, ts, **OPTS)\n",
    "        tidal = utide.reconstruct(ts0.index, coef, verbose = OPTS[\"verbose\"])\n",
    "        return pd.Series(data=ts0.values - tidal.h, index = ts0.index)"
   ]
  },
  {
   "cell_type": "code",
   "execution_count": null,
   "id": "953b9373",
   "metadata": {},
   "outputs": [],
   "source": [
    "ioc_df = searvey.get_ioc_stations()\n",
    "africa = shapely.box(-26, -35, 63, 38)\n",
    "ioc_africa = ioc_df[ioc_df.geometry.within(africa)]\n",
    "ioc_africa.hvplot(tiles=True, hover_cols = ['ioc_code'])\n"
   ]
  },
  {
   "cell_type": "markdown",
   "id": "fd1c5162",
   "metadata": {},
   "source": [
    "example for `zanz`: "
   ]
  },
  {
   "cell_type": "code",
   "execution_count": null,
   "id": "5202e9be",
   "metadata": {},
   "outputs": [],
   "source": [
    "station = \"zanz\"\n",
    "sensor = \"prs\""
   ]
  },
  {
   "cell_type": "code",
   "execution_count": null,
   "id": "ca4ef553",
   "metadata": {},
   "outputs": [],
   "source": [
    "raw = searvey.fetch_ioc_station(\n",
    "    station, \n",
    "    pd.Timestamp.now()-pd.Timedelta(days = 365), \n",
    "    pd.Timestamp.now()\n",
    ")\n",
    "raw.describe()"
   ]
  },
  {
   "cell_type": "code",
   "execution_count": null,
   "id": "ac1d5a12",
   "metadata": {},
   "outputs": [],
   "source": [
    "_lat = ioc_df[ioc_df.ioc_code == station].lat.values[0]"
   ]
  },
  {
   "cell_type": "code",
   "execution_count": null,
   "id": "c58c2cf6",
   "metadata": {},
   "outputs": [],
   "source": [
    "detided = surge(raw[sensor], lat = _lat, resample=2)"
   ]
  },
  {
   "cell_type": "markdown",
   "id": "b5b63dd5",
   "metadata": {},
   "source": [
    "visualise the raw signal"
   ]
  },
  {
   "cell_type": "code",
   "execution_count": null,
   "id": "fe8ea758",
   "metadata": {},
   "outputs": [],
   "source": [
    "raw[sensor].sample(frac=1/5).dropna().hvplot().opts(width=1300, height = 900)"
   ]
  },
  {
   "cell_type": "markdown",
   "id": "aed23a6a",
   "metadata": {},
   "source": [
    "visualise the detided signal (without tidal components)"
   ]
  },
  {
   "cell_type": "code",
   "execution_count": null,
   "id": "3891a08d",
   "metadata": {},
   "outputs": [],
   "source": [
    "detided.sample(frac=1/5).hvplot(ylim = (-0.5, 0.5)).opts(width=1300, height = 900)"
   ]
  }
 ],
 "metadata": {
  "kernelspec": {
   "display_name": ".venv",
   "language": "python",
   "name": "python3"
  },
  "language_info": {
   "codemirror_mode": {
    "name": "ipython",
    "version": 3
   },
   "file_extension": ".py",
   "mimetype": "text/x-python",
   "name": "python",
   "nbconvert_exporter": "python",
   "pygments_lexer": "ipython3",
   "version": "3.11.9"
  }
 },
 "nbformat": 4,
 "nbformat_minor": 5
}
