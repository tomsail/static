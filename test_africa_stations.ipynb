{
 "cells": [
  {
   "cell_type": "markdown",
   "id": "a79d3eef",
   "metadata": {},
   "source": [
    "to get this notebook working: \n",
    "\n",
    "```\n",
    "poetry add ipykernel hvplot shapely searvey geoviews utide\n",
    "```\n",
    "let's add also a package we use for cleaning tide gauges ([link](https://github.com/seareport/ioc_cleanup/tree/ioc_2024)):\n",
    "```\n",
    "poetry add git+https://github.com/seareport/ioc_cleanup.git#ioc_2024\n",
    "```"
   ]
  },
  {
   "cell_type": "code",
   "execution_count": null,
   "id": "679739b0",
   "metadata": {},
   "outputs": [],
   "source": [
    "import searvey\n",
    "import shapely\n",
    "import utide\n",
    "import pandas as pd\n",
    "import hvplot.pandas\n",
    "\n",
    "import ioc_cleanup as C"
   ]
  },
  {
   "cell_type": "markdown",
   "id": "fbfd2fdb",
   "metadata": {},
   "source": [
    "some functions"
   ]
  },
  {
   "cell_type": "code",
   "execution_count": null,
   "id": "26f0f98f",
   "metadata": {},
   "outputs": [],
   "source": [
    "def data_availability(series: pd.Series, freq=\"60min\") -> float:\n",
    "    resampled = series.resample(freq).mean()\n",
    "    data_avail_ratio = 1 - resampled.isna().sum() / len(resampled)\n",
    "    return float(data_avail_ratio)\n",
    "\n",
    "# small function to detide signal (using Utide: https://github.com/wesleybowman/UTide)\n",
    "def surge(ts: pd.Series, lat: float, resample: int = None): \n",
    "    ts0 = ts.copy()\n",
    "    OPTS = {\n",
    "        \"constit\": \"auto\", \n",
    "        \"method\": \"ols\", \n",
    "        \"order_constit\": \"frequency\",\n",
    "        \"Rayleigh_min\": 0.97,\n",
    "        \"lat\": lat,\n",
    "        \"verbose\": True\n",
    "    }\n",
    "    if resample is not None:\n",
    "        ts = ts.resample(f\"{resample}min\").mean()\n",
    "        ts = ts.shift(freq=f\"{resample / 2}min\")\n",
    "    coef = utide.solve(ts.index, ts, **OPTS)\n",
    "    tidal = utide.reconstruct(ts0.index, coef, verbose = OPTS[\"verbose\"])\n",
    "    return pd.Series(data=ts0.values - tidal.h, index = ts0.index)"
   ]
  },
  {
   "cell_type": "code",
   "execution_count": null,
   "id": "0fc6eb1e",
   "metadata": {},
   "outputs": [],
   "source": [
    "# Albatross project sites\n",
    "albat_dict = {\n",
    "    \"Site\": [\n",
    "        \"Keta Basin, Ghana\",\n",
    "        \"Kigamboni District Hub, Tanzania\",\n",
    "        \"Morondava District Hub, Madagascar\"\n",
    "    ],\n",
    "    \"lat\": [5.9000, -6.8500, -20.2833],\n",
    "    \"lon\": [0.9833, 39.3000, 44.3167]\n",
    "}\n",
    "\n",
    "albatross_sites = pd.DataFrame(albat_dict)\n",
    "albatross_sites"
   ]
  },
  {
   "cell_type": "markdown",
   "id": "b73715c8",
   "metadata": {},
   "source": [
    "get stations around africa"
   ]
  },
  {
   "cell_type": "code",
   "execution_count": null,
   "id": "953b9373",
   "metadata": {},
   "outputs": [],
   "source": [
    "ioc_df = searvey.get_ioc_stations()\n",
    "africa = shapely.box(-26, -35, 63, 38)\n",
    "ioc_africa = ioc_df[ioc_df.geometry.within(africa)]"
   ]
  },
  {
   "cell_type": "markdown",
   "id": "fd1c5162",
   "metadata": {},
   "source": [
    "example for `zanz`, station in Zanzibar: "
   ]
  },
  {
   "cell_type": "code",
   "execution_count": null,
   "id": "5202e9be",
   "metadata": {},
   "outputs": [],
   "source": [
    "station = \"zanz\"\n",
    "sensor = \"prs\""
   ]
  },
  {
   "cell_type": "markdown",
   "id": "af8614f1",
   "metadata": {},
   "source": [
    "details about the station, and location:"
   ]
  },
  {
   "cell_type": "code",
   "execution_count": null,
   "id": "40494d4b",
   "metadata": {},
   "outputs": [],
   "source": [
    "ioc_df[ioc_df.ioc_code==station]\n",
    "plot = ioc_africa.hvplot(\n",
    " tiles=True, \n",
    " hover_cols = ['ioc_code'], \n",
    " label = \"IOC stations\"\n",
    ") * ioc_df[ioc_df.ioc_code==station].hvplot(\n",
    " geo=True, \n",
    " hover_cols = ['ioc_code'], \n",
    " c=\"r\", \n",
    " label = \"zanz\"\n",
    ") * albatross_sites.hvplot.points(\n",
    " x = \"lon\",\n",
    " y = \"lat\",\n",
    " geo=True, \n",
    " hover_cols = ['Site'], \n",
    " c=\"g\",\n",
    " s = 700,\n",
    " marker = \"*\", \n",
    " label = \"albatross sites\")\n",
    "plot.opts(width = 1000, height = 1000)"
   ]
  },
  {
   "cell_type": "markdown",
   "id": "0e4771cf",
   "metadata": {},
   "source": [
    "let's extract data and check it's availability (extraction for 25 years should take around 3min with an average internet connection)"
   ]
  },
  {
   "cell_type": "code",
   "execution_count": null,
   "id": "ca4ef553",
   "metadata": {},
   "outputs": [],
   "source": [
    "raw = searvey.fetch_ioc_station(\n",
    "    station, \n",
    "    \"2000-01-01\", \n",
    "    pd.Timestamp.now()\n",
    ")\n",
    "raw.describe()"
   ]
  },
  {
   "cell_type": "code",
   "execution_count": null,
   "id": "ac1d5a12",
   "metadata": {},
   "outputs": [],
   "source": [
    "_lat = ioc_df[ioc_df.ioc_code == station].lat.values[0]"
   ]
  },
  {
   "cell_type": "code",
   "execution_count": null,
   "id": "4c2b3e5f",
   "metadata": {},
   "outputs": [],
   "source": [
    "raw[sensor].loc[\"2014-10\":].resample(\"1h\").mean().hvplot()"
   ]
  },
  {
   "cell_type": "markdown",
   "id": "e3e6e4f1",
   "metadata": {},
   "source": [
    "let's clean the data, using [ioc_cleanup](https://github.com/seareport/ioc_cleanup/tree/ioc_2024)"
   ]
  },
  {
   "cell_type": "code",
   "execution_count": null,
   "id": "f27ab0f2",
   "metadata": {},
   "outputs": [],
   "source": [
    "!mkdir -p transformations\n",
    "import requests\n",
    "open(f'transformations/{station}_{sensor}.json', 'wb').write(\n",
    "    requests.get(f'https://raw.githubusercontent.com/seareport/ioc_cleanup/refs/heads/ioc_2024/transformations/{station}_{sensor}.json').content\n",
    ")"
   ]
  },
  {
   "cell_type": "code",
   "execution_count": null,
   "id": "8e9aef67",
   "metadata": {},
   "outputs": [],
   "source": [
    "! head -20 \"transformations/{station}_{sensor}.json\" "
   ]
  },
  {
   "cell_type": "markdown",
   "id": "cd06735c",
   "metadata": {},
   "source": [
    "let's clean the signal using the transformation"
   ]
  },
  {
   "cell_type": "code",
   "execution_count": null,
   "id": "b3cf0872",
   "metadata": {},
   "outputs": [],
   "source": [
    "trans = C.load_transformation(station, sensor)\n",
    "ts = C.transform(raw, trans)[sensor]\n",
    "ts.resample(\"1h\").mean().hvplot(title=f\"water level signal in '{station}'\")"
   ]
  },
  {
   "cell_type": "markdown",
   "id": "23a433b0",
   "metadata": {},
   "source": [
    "let's detide the signal to isolate storm surges"
   ]
  },
  {
   "cell_type": "code",
   "execution_count": null,
   "id": "c58c2cf6",
   "metadata": {},
   "outputs": [],
   "source": [
    "detided = surge(ts, lat = _lat, resample=2)"
   ]
  },
  {
   "cell_type": "markdown",
   "id": "b5b63dd5",
   "metadata": {},
   "source": [
    "visualise the raw signal"
   ]
  },
  {
   "cell_type": "code",
   "execution_count": null,
   "id": "fe8ea758",
   "metadata": {},
   "outputs": [],
   "source": [
    "detided.resample(\"1h\").mean().dropna().hvplot().opts(width=1300, height = 400, title=f\"surge level signal in '{station}'\")"
   ]
  },
  {
   "cell_type": "markdown",
   "id": "731a4d0c",
   "metadata": {},
   "source": [
    "not really interesting.. no particular events happened in 2022-2024, although we can see a small contribution in september 2024\n",
    "\n",
    "Unfortunately we only cleaned from 2022 to 2025, for our model validation purposes. \n",
    "\n",
    "However you cans still change the start date to 2000 to get more data\n",
    "\n",
    "let's have a look at the bigger time series.. and modify the transformation accordingly\n"
   ]
  },
  {
   "cell_type": "code",
   "execution_count": null,
   "id": "a65bd2d1",
   "metadata": {},
   "outputs": [],
   "source": [
    "trans.start \n",
    "trans.start = pd.Timestamp(2014,10,10).to_pydatetime()\n",
    "trans.dropped_date_ranges.append([pd.Timestamp(2020,4,14).to_pydatetime(), pd.Timestamp(2021,10,27).to_pydatetime()])"
   ]
  },
  {
   "cell_type": "code",
   "execution_count": null,
   "id": "81fabb8f",
   "metadata": {},
   "outputs": [],
   "source": [
    "ts = C.transform(raw, trans)[sensor]\n",
    "ts.resample(\"1h\").mean().hvplot(title=f\"water level signal in '{station}'\")"
   ]
  },
  {
   "cell_type": "markdown",
   "id": "aed23a6a",
   "metadata": {},
   "source": [
    "detide for the last 10 years (this might take time.. and some processing)"
   ]
  },
  {
   "cell_type": "code",
   "execution_count": null,
   "id": "6447bf15",
   "metadata": {},
   "outputs": [],
   "source": [
    "detided = surge(ts, lat = _lat, resample=20)"
   ]
  },
  {
   "cell_type": "code",
   "execution_count": null,
   "id": "48fc57a0",
   "metadata": {},
   "outputs": [],
   "source": [
    "YEAR = 2014\n",
    "detided.loc[f\"{YEAR}\":f\"{YEAR+1}\"].resample(\"1h\").mean().hvplot().opts(width=1300, height = 400, title=f\"surge level signal in '{station}'\")"
   ]
  }
 ],
 "metadata": {
  "kernelspec": {
   "display_name": ".venv",
   "language": "python",
   "name": "python3"
  },
  "language_info": {
   "codemirror_mode": {
    "name": "ipython",
    "version": 3
   },
   "file_extension": ".py",
   "mimetype": "text/x-python",
   "name": "python",
   "nbconvert_exporter": "python",
   "pygments_lexer": "ipython3",
   "version": "3.12.8"
  }
 },
 "nbformat": 4,
 "nbformat_minor": 5
}
